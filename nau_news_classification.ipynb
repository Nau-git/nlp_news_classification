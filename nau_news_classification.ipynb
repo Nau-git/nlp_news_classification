{
 "cells": [
  {
   "cell_type": "markdown",
   "metadata": {},
   "source": [
    "# 1 - Introduction"
   ]
  },
  {
   "cell_type": "markdown",
   "metadata": {},
   "source": [
    "Hello, I'm Naufal. This is the notebook for my first natural language processing project. The dataset is called AG's corpus of news articles, can be downloaded from here https://course.fast.ai/datasets. It is a collection of news articles gathered from more than 2000 news sources by an academic news search engine (ComeToMyHead). I will construct a NLP model to classify the news articles into four categories."
   ]
  },
  {
   "cell_type": "markdown",
   "metadata": {},
   "source": [
    "---\n",
    "# 2 - Importing Libraries"
   ]
  },
  {
   "cell_type": "code",
   "execution_count": 1,
   "metadata": {},
   "outputs": [
    {
     "name": "stderr",
     "output_type": "stream",
     "text": [
      "[nltk_data] Downloading package wordnet to\n",
      "[nltk_data]     C:\\Users\\Naufal\\AppData\\Roaming\\nltk_data...\n",
      "[nltk_data]   Package wordnet is already up-to-date!\n",
      "[nltk_data] Downloading package stopwords to\n",
      "[nltk_data]     C:\\Users\\Naufal\\AppData\\Roaming\\nltk_data...\n",
      "[nltk_data]   Package stopwords is already up-to-date!\n",
      "[nltk_data] Downloading package omw-1.4 to\n",
      "[nltk_data]     C:\\Users\\Naufal\\AppData\\Roaming\\nltk_data...\n",
      "[nltk_data]   Package omw-1.4 is already up-to-date!\n"
     ]
    },
    {
     "data": {
      "text/plain": [
       "True"
      ]
     },
     "execution_count": 1,
     "metadata": {},
     "output_type": "execute_result"
    }
   ],
   "source": [
    "import warnings\n",
    "warnings.filterwarnings('ignore')\n",
    "\n",
    "import random, re, string, nltk, os\n",
    "import pandas as pd\n",
    "import numpy as np\n",
    "import matplotlib.pyplot as plt\n",
    "import seaborn as sns\n",
    "import tensorflow as tf\n",
    "\n",
    "\n",
    "from tensorflow.keras.models import Model, Sequential\n",
    "from tensorflow.keras.layers import Input, Embedding, Dense, Dropout, TextVectorization, LSTM, GRU, Dot, GlobalAveragePooling1D\n",
    "from tensorflow.keras.utils import to_categorical\n",
    "\n",
    "from sklearn.model_selection import train_test_split\n",
    "from sklearn.pipeline import Pipeline, make_pipeline\n",
    "from sklearn.compose import ColumnTransformer\n",
    "from sklearn.metrics import accuracy_score, classification_report\n",
    "\n",
    "from nltk.tokenize import word_tokenize\n",
    "from nltk.corpus import wordnet, stopwords\n",
    "from nltk.stem import WordNetLemmatizer\n",
    "\n",
    "# nltk.download('punkt')\n",
    "# nltk.download('averaged_perceptron_tagger')\n",
    "nltk.download('wordnet')\n",
    "nltk.download('stopwords')\n",
    "nltk.download('omw-1.4')"
   ]
  },
  {
   "cell_type": "markdown",
   "metadata": {},
   "source": [
    "---\n",
    "# 3 - Data Loading"
   ]
  },
  {
   "cell_type": "code",
   "execution_count": 2,
   "metadata": {},
   "outputs": [
    {
     "name": "stdout",
     "output_type": "stream",
     "text": [
      "Shape of the train set (row, column) :  (120000, 3)\n",
      "Shape of the test set (row, column) :  (7600, 3)\n"
     ]
    },
    {
     "data": {
      "text/html": [
       "<div>\n",
       "<style scoped>\n",
       "    .dataframe tbody tr th:only-of-type {\n",
       "        vertical-align: middle;\n",
       "    }\n",
       "\n",
       "    .dataframe tbody tr th {\n",
       "        vertical-align: top;\n",
       "    }\n",
       "\n",
       "    .dataframe thead th {\n",
       "        text-align: right;\n",
       "    }\n",
       "</style>\n",
       "<table border=\"1\" class=\"dataframe\">\n",
       "  <thead>\n",
       "    <tr style=\"text-align: right;\">\n",
       "      <th></th>\n",
       "      <th>label</th>\n",
       "      <th>title</th>\n",
       "      <th>description</th>\n",
       "    </tr>\n",
       "  </thead>\n",
       "  <tbody>\n",
       "    <tr>\n",
       "      <th>0</th>\n",
       "      <td>3</td>\n",
       "      <td>Wall St. Bears Claw Back Into the Black (Reuters)</td>\n",
       "      <td>Reuters - Short-sellers, Wall Street's dwindli...</td>\n",
       "    </tr>\n",
       "    <tr>\n",
       "      <th>1</th>\n",
       "      <td>3</td>\n",
       "      <td>Carlyle Looks Toward Commercial Aerospace (Reu...</td>\n",
       "      <td>Reuters - Private investment firm Carlyle Grou...</td>\n",
       "    </tr>\n",
       "    <tr>\n",
       "      <th>2</th>\n",
       "      <td>3</td>\n",
       "      <td>Oil and Economy Cloud Stocks' Outlook (Reuters)</td>\n",
       "      <td>Reuters - Soaring crude prices plus worries\\ab...</td>\n",
       "    </tr>\n",
       "    <tr>\n",
       "      <th>3</th>\n",
       "      <td>3</td>\n",
       "      <td>Iraq Halts Oil Exports from Main Southern Pipe...</td>\n",
       "      <td>Reuters - Authorities have halted oil export\\f...</td>\n",
       "    </tr>\n",
       "    <tr>\n",
       "      <th>4</th>\n",
       "      <td>3</td>\n",
       "      <td>Oil prices soar to all-time record, posing new...</td>\n",
       "      <td>AFP - Tearaway world oil prices, toppling reco...</td>\n",
       "    </tr>\n",
       "  </tbody>\n",
       "</table>\n",
       "</div>"
      ],
      "text/plain": [
       "   label                                              title  \\\n",
       "0      3  Wall St. Bears Claw Back Into the Black (Reuters)   \n",
       "1      3  Carlyle Looks Toward Commercial Aerospace (Reu...   \n",
       "2      3    Oil and Economy Cloud Stocks' Outlook (Reuters)   \n",
       "3      3  Iraq Halts Oil Exports from Main Southern Pipe...   \n",
       "4      3  Oil prices soar to all-time record, posing new...   \n",
       "\n",
       "                                         description  \n",
       "0  Reuters - Short-sellers, Wall Street's dwindli...  \n",
       "1  Reuters - Private investment firm Carlyle Grou...  \n",
       "2  Reuters - Soaring crude prices plus worries\\ab...  \n",
       "3  Reuters - Authorities have halted oil export\\f...  \n",
       "4  AFP - Tearaway world oil prices, toppling reco...  "
      ]
     },
     "execution_count": 2,
     "metadata": {},
     "output_type": "execute_result"
    }
   ],
   "source": [
    "train = pd.read_csv('ag_news_csv/train.csv', header=None, names=['label', 'title', 'description'])\n",
    "test = pd.read_csv('ag_news_csv/test.csv', header=None, names=['label', 'title', 'description'])\n",
    "\n",
    "train1 = train.copy()\n",
    "test1 = test.copy()\n",
    "\n",
    "print('Shape of the train set (row, column) : ', train.shape)\n",
    "print('Shape of the test set (row, column) : ', test.shape)\n",
    "train.head()"
   ]
  },
  {
   "cell_type": "markdown",
   "metadata": {},
   "source": [
    "The dataset has been split into two, the train and the test set. Both have 3 columns and combined have 127,600 rows.\n",
    "\n",
    "* Column label: the label or class of the news\n",
    "* Column title: the title of the news\n",
    "* Column description: the description of the news"
   ]
  },
  {
   "cell_type": "code",
   "execution_count": 3,
   "metadata": {},
   "outputs": [
    {
     "data": {
      "text/plain": [
       "array([3, 4, 2, 1], dtype=int64)"
      ]
     },
     "execution_count": 3,
     "metadata": {},
     "output_type": "execute_result"
    }
   ],
   "source": [
    "train['label'].unique()"
   ]
  },
  {
   "cell_type": "markdown",
   "metadata": {},
   "source": [
    "There are 4 labels in the dataset. They are the indicators of the news topic. \n",
    "* Label 1: News about the World\n",
    "* Label 2: News about Sports\n",
    "* Label 3: News about Business\n",
    "* Label 4: News about Sci/Tech\n",
    "\n",
    "Column label is the target for our model. Our predictive model will be used to predict the label of the news.\n",
    "\n",
    "We would like to change the value so it starts from 0. This way, the modeling process can be easier."
   ]
  },
  {
   "cell_type": "code",
   "execution_count": 4,
   "metadata": {},
   "outputs": [],
   "source": [
    "train['label'] = train['label'].replace({1:0, 2:1, 3:2, 4:3})\n",
    "test['label'] = test['label'].replace({1:0, 2:1, 3:2, 4:3})"
   ]
  },
  {
   "cell_type": "code",
   "execution_count": 5,
   "metadata": {},
   "outputs": [
    {
     "data": {
      "text/html": [
       "<div>\n",
       "<style scoped>\n",
       "    .dataframe tbody tr th:only-of-type {\n",
       "        vertical-align: middle;\n",
       "    }\n",
       "\n",
       "    .dataframe tbody tr th {\n",
       "        vertical-align: top;\n",
       "    }\n",
       "\n",
       "    .dataframe thead th {\n",
       "        text-align: right;\n",
       "    }\n",
       "</style>\n",
       "<table border=\"1\" class=\"dataframe\">\n",
       "  <thead>\n",
       "    <tr style=\"text-align: right;\">\n",
       "      <th></th>\n",
       "      <th>label</th>\n",
       "      <th>title</th>\n",
       "      <th>description</th>\n",
       "    </tr>\n",
       "  </thead>\n",
       "  <tbody>\n",
       "    <tr>\n",
       "      <th>0</th>\n",
       "      <td>2</td>\n",
       "      <td>Wall St. Bears Claw Back Into the Black (Reuters)</td>\n",
       "      <td>Reuters - Short-sellers, Wall Street's dwindli...</td>\n",
       "    </tr>\n",
       "    <tr>\n",
       "      <th>1</th>\n",
       "      <td>2</td>\n",
       "      <td>Carlyle Looks Toward Commercial Aerospace (Reu...</td>\n",
       "      <td>Reuters - Private investment firm Carlyle Grou...</td>\n",
       "    </tr>\n",
       "    <tr>\n",
       "      <th>2</th>\n",
       "      <td>2</td>\n",
       "      <td>Oil and Economy Cloud Stocks' Outlook (Reuters)</td>\n",
       "      <td>Reuters - Soaring crude prices plus worries\\ab...</td>\n",
       "    </tr>\n",
       "    <tr>\n",
       "      <th>3</th>\n",
       "      <td>2</td>\n",
       "      <td>Iraq Halts Oil Exports from Main Southern Pipe...</td>\n",
       "      <td>Reuters - Authorities have halted oil export\\f...</td>\n",
       "    </tr>\n",
       "    <tr>\n",
       "      <th>4</th>\n",
       "      <td>2</td>\n",
       "      <td>Oil prices soar to all-time record, posing new...</td>\n",
       "      <td>AFP - Tearaway world oil prices, toppling reco...</td>\n",
       "    </tr>\n",
       "  </tbody>\n",
       "</table>\n",
       "</div>"
      ],
      "text/plain": [
       "   label                                              title  \\\n",
       "0      2  Wall St. Bears Claw Back Into the Black (Reuters)   \n",
       "1      2  Carlyle Looks Toward Commercial Aerospace (Reu...   \n",
       "2      2    Oil and Economy Cloud Stocks' Outlook (Reuters)   \n",
       "3      2  Iraq Halts Oil Exports from Main Southern Pipe...   \n",
       "4      2  Oil prices soar to all-time record, posing new...   \n",
       "\n",
       "                                         description  \n",
       "0  Reuters - Short-sellers, Wall Street's dwindli...  \n",
       "1  Reuters - Private investment firm Carlyle Grou...  \n",
       "2  Reuters - Soaring crude prices plus worries\\ab...  \n",
       "3  Reuters - Authorities have halted oil export\\f...  \n",
       "4  AFP - Tearaway world oil prices, toppling reco...  "
      ]
     },
     "execution_count": 5,
     "metadata": {},
     "output_type": "execute_result"
    }
   ],
   "source": [
    "train.head()"
   ]
  },
  {
   "cell_type": "markdown",
   "metadata": {},
   "source": [
    "This is what we have now:\n",
    "* Label 0: News about the World\n",
    "* Label 1: News about Sports\n",
    "* Label 2: News about Business\n",
    "* Label 3: News about Sci/Tech"
   ]
  },
  {
   "cell_type": "code",
   "execution_count": 8,
   "metadata": {},
   "outputs": [
    {
     "name": "stdout",
     "output_type": "stream",
     "text": [
      "Label : 3 - Sci/Tech News\n",
      "Title: Sony begins sampling Blu-ray components\n",
      "Description: With the next-generation DVD race hotting up, Sony says that it will begin sampling optical pick-ups featuring blue laser diodes in December this year.\n",
      "---------------------------------------------------------------------------------------------------------------------------------------------------------------------\n",
      "Label : 3 - Sci/Tech News\n",
      "Title: Digital music  #39;niche #39; market for foreseeable future, won #39;t replace &lt;b&gt;...&lt;/b&gt;\n",
      "Description: While digital music revenues will grow to be eight per cent of the total European music market by 2009, the CD will remain the bedrock of music sales, according to a new report by market analysts Jupiter Research.\n",
      "---------------------------------------------------------------------------------------------------------------------------------------------------------------------\n",
      "Label : 3 - Sci/Tech News\n",
      "Title: Nortel Will Cut 3,250 Jobs, 250 Fewer Than Expected (Update1)\n",
      "Description: Nortel Networks Corp., North America #39;s biggest maker of phone equipment, said it will pare 3,250 jobs, 250 fewer than it had predicted last month.\n",
      "---------------------------------------------------------------------------------------------------------------------------------------------------------------------\n",
      "Label : 1 - Sports News\n",
      "Title: Expos off to Washington\n",
      "Description: WASHINGTON -- Canada #39;s loss is a capital gain. After three years of uncertainty, the Montreal Expos will have a new home in Washington.\n",
      "---------------------------------------------------------------------------------------------------------------------------------------------------------------------\n",
      "Label : 0 - World News\n",
      "Title: Israel Plans Large-Scale Gaza Operation\n",
      "Description: Israel #39;s defense minister decided Thursday to launch a large-scale military operation in the Gaza Strip to stop Palestinian rocket fire on Israeli border towns, an Israeli radio station reported.\n",
      "---------------------------------------------------------------------------------------------------------------------------------------------------------------------\n"
     ]
    }
   ],
   "source": [
    "# For loop to check 5 random data\n",
    "random_index = random.randint(0, len(train) - 5)\n",
    "for row in train[['title', \"label\", 'description']][random_index:random_index + 5].itertuples():\n",
    "  _, title, target, desc = row\n",
    "  if target == 0:\n",
    "    print(f\"Label : {target} - World News\")\n",
    "  elif target == 1:\n",
    "    print(f\"Label : {target} - Sports News\")\n",
    "  elif target == 2:\n",
    "    print(f\"Label : {target} - Business News\")\n",
    "  elif target == 3:\n",
    "     print(f\"Label : {target} - Sci/Tech News\")\n",
    "  print(f\"Title: {title}\")\n",
    "  print(f'Description: {desc}')\n",
    "  print(\"---------------------------------\"*5)"
   ]
  },
  {
   "cell_type": "code",
   "execution_count": 7,
   "metadata": {},
   "outputs": [
    {
     "name": "stdout",
     "output_type": "stream",
     "text": [
      "<class 'pandas.core.frame.DataFrame'>\n",
      "RangeIndex: 120000 entries, 0 to 119999\n",
      "Data columns (total 3 columns):\n",
      " #   Column       Non-Null Count   Dtype \n",
      "---  ------       --------------   ----- \n",
      " 0   label        120000 non-null  int64 \n",
      " 1   title        120000 non-null  object\n",
      " 2   description  120000 non-null  object\n",
      "dtypes: int64(1), object(2)\n",
      "memory usage: 2.7+ MB\n"
     ]
    }
   ],
   "source": [
    "train.info()"
   ]
  },
  {
   "cell_type": "code",
   "execution_count": 8,
   "metadata": {},
   "outputs": [
    {
     "data": {
      "text/plain": [
       "0"
      ]
     },
     "execution_count": 8,
     "metadata": {},
     "output_type": "execute_result"
    }
   ],
   "source": [
    "train.isnull().sum().sum()"
   ]
  },
  {
   "cell_type": "markdown",
   "metadata": {},
   "source": [
    "No missing value is detected"
   ]
  },
  {
   "cell_type": "markdown",
   "metadata": {},
   "source": [
    "---\n",
    "# 4 - Exploratory Data Analysis (EDA)"
   ]
  },
  {
   "cell_type": "markdown",
   "metadata": {},
   "source": [
    "### Descriptive Statistics"
   ]
  },
  {
   "cell_type": "code",
   "execution_count": 9,
   "metadata": {},
   "outputs": [
    {
     "data": {
      "text/html": [
       "<div>\n",
       "<style scoped>\n",
       "    .dataframe tbody tr th:only-of-type {\n",
       "        vertical-align: middle;\n",
       "    }\n",
       "\n",
       "    .dataframe tbody tr th {\n",
       "        vertical-align: top;\n",
       "    }\n",
       "\n",
       "    .dataframe thead th {\n",
       "        text-align: right;\n",
       "    }\n",
       "</style>\n",
       "<table border=\"1\" class=\"dataframe\">\n",
       "  <thead>\n",
       "    <tr style=\"text-align: right;\">\n",
       "      <th></th>\n",
       "      <th>count</th>\n",
       "      <th>unique</th>\n",
       "      <th>top</th>\n",
       "      <th>freq</th>\n",
       "      <th>mean</th>\n",
       "      <th>std</th>\n",
       "      <th>min</th>\n",
       "      <th>25%</th>\n",
       "      <th>50%</th>\n",
       "      <th>75%</th>\n",
       "      <th>max</th>\n",
       "    </tr>\n",
       "  </thead>\n",
       "  <tbody>\n",
       "    <tr>\n",
       "      <th>label</th>\n",
       "      <td>120000.0</td>\n",
       "      <td>NaN</td>\n",
       "      <td>NaN</td>\n",
       "      <td>NaN</td>\n",
       "      <td>1.5</td>\n",
       "      <td>1.118039</td>\n",
       "      <td>0.0</td>\n",
       "      <td>0.75</td>\n",
       "      <td>1.5</td>\n",
       "      <td>2.25</td>\n",
       "      <td>3.0</td>\n",
       "    </tr>\n",
       "    <tr>\n",
       "      <th>title</th>\n",
       "      <td>120000</td>\n",
       "      <td>114364</td>\n",
       "      <td>Today's schedule</td>\n",
       "      <td>39</td>\n",
       "      <td>NaN</td>\n",
       "      <td>NaN</td>\n",
       "      <td>NaN</td>\n",
       "      <td>NaN</td>\n",
       "      <td>NaN</td>\n",
       "      <td>NaN</td>\n",
       "      <td>NaN</td>\n",
       "    </tr>\n",
       "    <tr>\n",
       "      <th>description</th>\n",
       "      <td>120000</td>\n",
       "      <td>118731</td>\n",
       "      <td>With the economy slowly turning up, upgrading ...</td>\n",
       "      <td>15</td>\n",
       "      <td>NaN</td>\n",
       "      <td>NaN</td>\n",
       "      <td>NaN</td>\n",
       "      <td>NaN</td>\n",
       "      <td>NaN</td>\n",
       "      <td>NaN</td>\n",
       "      <td>NaN</td>\n",
       "    </tr>\n",
       "  </tbody>\n",
       "</table>\n",
       "</div>"
      ],
      "text/plain": [
       "                count  unique  \\\n",
       "label        120000.0     NaN   \n",
       "title          120000  114364   \n",
       "description    120000  118731   \n",
       "\n",
       "                                                           top freq mean  \\\n",
       "label                                                      NaN  NaN  1.5   \n",
       "title                                         Today's schedule   39  NaN   \n",
       "description  With the economy slowly turning up, upgrading ...   15  NaN   \n",
       "\n",
       "                  std  min   25%  50%   75%  max  \n",
       "label        1.118039  0.0  0.75  1.5  2.25  3.0  \n",
       "title             NaN  NaN   NaN  NaN   NaN  NaN  \n",
       "description       NaN  NaN   NaN  NaN   NaN  NaN  "
      ]
     },
     "execution_count": 9,
     "metadata": {},
     "output_type": "execute_result"
    }
   ],
   "source": [
    "train.describe(include='all').T"
   ]
  },
  {
   "attachments": {},
   "cell_type": "markdown",
   "metadata": {},
   "source": [
    "News with title \"Today's schedule\" appeared the most with a count of 39. "
   ]
  },
  {
   "cell_type": "markdown",
   "metadata": {},
   "source": [
    "### Class Distribution"
   ]
  },
  {
   "cell_type": "code",
   "execution_count": 10,
   "metadata": {},
   "outputs": [
    {
     "name": "stdout",
     "output_type": "stream",
     "text": [
      "2    30000\n",
      "3    30000\n",
      "1    30000\n",
      "0    30000\n",
      "Name: label, dtype: int64\n"
     ]
    },
    {
     "data": {
      "image/png": "[encoded data removed]",
      "text/plain": [
       "<Figure size 432x288 with 1 Axes>"
      ]
     },
     "metadata": {
      "needs_background": "light"
     },
     "output_type": "display_data"
    }
   ],
   "source": [
    "x = train['label'].value_counts()\n",
    "print(x)\n",
    "sns.barplot(x.index, x);"
   ]
  },
  {
   "cell_type": "markdown",
   "metadata": {},
   "source": [
    "The dataset is balanced. Every class has the same number of articles (30,000)"
   ]
  },
  {
   "cell_type": "markdown",
   "metadata": {},
   "source": [
    "### Number of words"
   ]
  },
  {
   "cell_type": "markdown",
   "metadata": {},
   "source": [
    "We would like to count the number of words in the title and description of the news. Each word is separated by a space."
   ]
  },
  {
   "cell_type": "code",
   "execution_count": 11,
   "metadata": {},
   "outputs": [
    {
     "data": {
      "text/html": [
       "<div>\n",
       "<style scoped>\n",
       "    .dataframe tbody tr th:only-of-type {\n",
       "        vertical-align: middle;\n",
       "    }\n",
       "\n",
       "    .dataframe tbody tr th {\n",
       "        vertical-align: top;\n",
       "    }\n",
       "\n",
       "    .dataframe thead th {\n",
       "        text-align: right;\n",
       "    }\n",
       "</style>\n",
       "<table border=\"1\" class=\"dataframe\">\n",
       "  <thead>\n",
       "    <tr style=\"text-align: right;\">\n",
       "      <th></th>\n",
       "      <th>label</th>\n",
       "      <th>title</th>\n",
       "      <th>description</th>\n",
       "      <th>word_title</th>\n",
       "      <th>word_description</th>\n",
       "    </tr>\n",
       "  </thead>\n",
       "  <tbody>\n",
       "    <tr>\n",
       "      <th>0</th>\n",
       "      <td>2</td>\n",
       "      <td>Wall St. Bears Claw Back Into the Black (Reuters)</td>\n",
       "      <td>Reuters - Short-sellers, Wall Street's dwindli...</td>\n",
       "      <td>9</td>\n",
       "      <td>12</td>\n",
       "    </tr>\n",
       "    <tr>\n",
       "      <th>1</th>\n",
       "      <td>2</td>\n",
       "      <td>Carlyle Looks Toward Commercial Aerospace (Reu...</td>\n",
       "      <td>Reuters - Private investment firm Carlyle Grou...</td>\n",
       "      <td>6</td>\n",
       "      <td>30</td>\n",
       "    </tr>\n",
       "    <tr>\n",
       "      <th>2</th>\n",
       "      <td>2</td>\n",
       "      <td>Oil and Economy Cloud Stocks' Outlook (Reuters)</td>\n",
       "      <td>Reuters - Soaring crude prices plus worries\\ab...</td>\n",
       "      <td>7</td>\n",
       "      <td>29</td>\n",
       "    </tr>\n",
       "    <tr>\n",
       "      <th>3</th>\n",
       "      <td>2</td>\n",
       "      <td>Iraq Halts Oil Exports from Main Southern Pipe...</td>\n",
       "      <td>Reuters - Authorities have halted oil export\\f...</td>\n",
       "      <td>9</td>\n",
       "      <td>27</td>\n",
       "    </tr>\n",
       "    <tr>\n",
       "      <th>4</th>\n",
       "      <td>2</td>\n",
       "      <td>Oil prices soar to all-time record, posing new...</td>\n",
       "      <td>AFP - Tearaway world oil prices, toppling reco...</td>\n",
       "      <td>13</td>\n",
       "      <td>24</td>\n",
       "    </tr>\n",
       "  </tbody>\n",
       "</table>\n",
       "</div>"
      ],
      "text/plain": [
       "   label                                              title  \\\n",
       "0      2  Wall St. Bears Claw Back Into the Black (Reuters)   \n",
       "1      2  Carlyle Looks Toward Commercial Aerospace (Reu...   \n",
       "2      2    Oil and Economy Cloud Stocks' Outlook (Reuters)   \n",
       "3      2  Iraq Halts Oil Exports from Main Southern Pipe...   \n",
       "4      2  Oil prices soar to all-time record, posing new...   \n",
       "\n",
       "                                         description  word_title  \\\n",
       "0  Reuters - Short-sellers, Wall Street's dwindli...           9   \n",
       "1  Reuters - Private investment firm Carlyle Grou...           6   \n",
       "2  Reuters - Soaring crude prices plus worries\\ab...           7   \n",
       "3  Reuters - Authorities have halted oil export\\f...           9   \n",
       "4  AFP - Tearaway world oil prices, toppling reco...          13   \n",
       "\n",
       "   word_description  \n",
       "0                12  \n",
       "1                30  \n",
       "2                29  \n",
       "3                27  \n",
       "4                24  "
      ]
     },
     "execution_count": 11,
     "metadata": {},
     "output_type": "execute_result"
    }
   ],
   "source": [
    "train['word_title'] = train['title'].apply(lambda x: len(x.split(' ')))  # number of words in title\n",
    "train['word_description'] = train['description'].apply(lambda x: len(x.split(' '))) # number of words in description\n",
    "train.head()"
   ]
  },
  {
   "cell_type": "code",
   "execution_count": 12,
   "metadata": {},
   "outputs": [
    {
     "name": "stdout",
     "output_type": "stream",
     "text": [
      "Average word count in World news title 7.285\n",
      "Average word count in Sports news title 6.451033333333333\n",
      "Average word count in Business news title 6.832233333333333\n",
      "Average word count in Sci/Tech news title 6.6952\n"
     ]
    }
   ],
   "source": [
    "for label in ['World', 'Sports', 'Business', 'Sci/Tech']:\n",
    "    print(f'Average word count in the title of {label} news:', train[train['label'] == label]['word_title'].mean())\n"
   ]
  },
  {
   "cell_type": "code",
   "execution_count": 13,
   "metadata": {},
   "outputs": [
    {
     "name": "stdout",
     "output_type": "stream",
     "text": [
      "Average word count in World news description 32.20256666666667\n",
      "Average word count in Sports news description 31.7329\n",
      "Average word count in Business news description 31.544233333333334\n",
      "Average word count in Sci/Tech news description 30.931733333333334\n"
     ]
    }
   ],
   "source": [
    "for label in ['World', 'Sports', 'Business', 'Sci/Tech']:\n",
    "    print(f'Average word count in the description of {label} news:', train[train['label'] == label]['word_description'].mean())"
   ]
  },
  {
   "cell_type": "markdown",
   "metadata": {},
   "source": [
    "* World news has the longest average word count, both in title and description."
   ]
  },
  {
   "cell_type": "code",
   "execution_count": 14,
   "metadata": {},
   "outputs": [
    {
     "data": {
      "image/png": "[encoded data removed]",
      "text/plain": [
       "<Figure size 1080x576 with 4 Axes>"
      ]
     },
     "metadata": {
      "needs_background": "light"
     },
     "output_type": "display_data"
    }
   ],
   "source": [
    "fig, axes = plt.subplots(2, 2, figsize=(15, 8))\n",
    "fig.suptitle('\\'Title\\' Word Count')\n",
    "\n",
    "for ax, label in zip(axes.flatten(), ['World', 'Sports', 'Business', 'Sci/Tech']):\n",
    "    train_words = train[train['label'] == label]['word_title']\n",
    "    ax.hist(train_words, color='C0')\n",
    "    ax.set_title(f'{label} news')\n",
    "\n",
    "plt.show()\n"
   ]
  },
  {
   "cell_type": "code",
   "execution_count": 15,
   "metadata": {},
   "outputs": [
    {
     "data": {
      "image/png": "[encoded data removed]",
      "text/plain": [
       "<Figure size 1080x576 with 4 Axes>"
      ]
     },
     "metadata": {
      "needs_background": "light"
     },
     "output_type": "display_data"
    }
   ],
   "source": [
    "fig, axes = plt.subplots(2, 2, figsize=(15, 8))\n",
    "fig.suptitle('\\'Description\\' Word Count')\n",
    "\n",
    "for ax, label in zip(axes.flatten(), ['World', 'Sports', 'Business', 'Sci/Tech']):\n",
    "    train_words = train[train['label'] == label]['word_description']\n",
    "    ax.hist(train_words, color='C0')\n",
    "    ax.set_title(f'{label} news')\n",
    "\n",
    "plt.show()\n"
   ]
  },
  {
   "cell_type": "markdown",
   "metadata": {},
   "source": [
    "### Number of characters"
   ]
  },
  {
   "cell_type": "code",
   "execution_count": 16,
   "metadata": {},
   "outputs": [
    {
     "data": {
      "text/html": [
       "<div>\n",
       "<style scoped>\n",
       "    .dataframe tbody tr th:only-of-type {\n",
       "        vertical-align: middle;\n",
       "    }\n",
       "\n",
       "    .dataframe tbody tr th {\n",
       "        vertical-align: top;\n",
       "    }\n",
       "\n",
       "    .dataframe thead th {\n",
       "        text-align: right;\n",
       "    }\n",
       "</style>\n",
       "<table border=\"1\" class=\"dataframe\">\n",
       "  <thead>\n",
       "    <tr style=\"text-align: right;\">\n",
       "      <th></th>\n",
       "      <th>label</th>\n",
       "      <th>title</th>\n",
       "      <th>description</th>\n",
       "      <th>word_title</th>\n",
       "      <th>word_description</th>\n",
       "      <th>char_title</th>\n",
       "      <th>char_description</th>\n",
       "    </tr>\n",
       "  </thead>\n",
       "  <tbody>\n",
       "    <tr>\n",
       "      <th>0</th>\n",
       "      <td>2</td>\n",
       "      <td>Wall St. Bears Claw Back Into the Black (Reuters)</td>\n",
       "      <td>Reuters - Short-sellers, Wall Street's dwindli...</td>\n",
       "      <td>9</td>\n",
       "      <td>12</td>\n",
       "      <td>49</td>\n",
       "      <td>94</td>\n",
       "    </tr>\n",
       "    <tr>\n",
       "      <th>1</th>\n",
       "      <td>2</td>\n",
       "      <td>Carlyle Looks Toward Commercial Aerospace (Reu...</td>\n",
       "      <td>Reuters - Private investment firm Carlyle Grou...</td>\n",
       "      <td>6</td>\n",
       "      <td>30</td>\n",
       "      <td>51</td>\n",
       "      <td>214</td>\n",
       "    </tr>\n",
       "    <tr>\n",
       "      <th>2</th>\n",
       "      <td>2</td>\n",
       "      <td>Oil and Economy Cloud Stocks' Outlook (Reuters)</td>\n",
       "      <td>Reuters - Soaring crude prices plus worries\\ab...</td>\n",
       "      <td>7</td>\n",
       "      <td>29</td>\n",
       "      <td>47</td>\n",
       "      <td>184</td>\n",
       "    </tr>\n",
       "    <tr>\n",
       "      <th>3</th>\n",
       "      <td>2</td>\n",
       "      <td>Iraq Halts Oil Exports from Main Southern Pipe...</td>\n",
       "      <td>Reuters - Authorities have halted oil export\\f...</td>\n",
       "      <td>9</td>\n",
       "      <td>27</td>\n",
       "      <td>60</td>\n",
       "      <td>195</td>\n",
       "    </tr>\n",
       "    <tr>\n",
       "      <th>4</th>\n",
       "      <td>2</td>\n",
       "      <td>Oil prices soar to all-time record, posing new...</td>\n",
       "      <td>AFP - Tearaway world oil prices, toppling reco...</td>\n",
       "      <td>13</td>\n",
       "      <td>24</td>\n",
       "      <td>73</td>\n",
       "      <td>160</td>\n",
       "    </tr>\n",
       "  </tbody>\n",
       "</table>\n",
       "</div>"
      ],
      "text/plain": [
       "   label                                              title  \\\n",
       "0      2  Wall St. Bears Claw Back Into the Black (Reuters)   \n",
       "1      2  Carlyle Looks Toward Commercial Aerospace (Reu...   \n",
       "2      2    Oil and Economy Cloud Stocks' Outlook (Reuters)   \n",
       "3      2  Iraq Halts Oil Exports from Main Southern Pipe...   \n",
       "4      2  Oil prices soar to all-time record, posing new...   \n",
       "\n",
       "                                         description  word_title  \\\n",
       "0  Reuters - Short-sellers, Wall Street's dwindli...           9   \n",
       "1  Reuters - Private investment firm Carlyle Grou...           6   \n",
       "2  Reuters - Soaring crude prices plus worries\\ab...           7   \n",
       "3  Reuters - Authorities have halted oil export\\f...           9   \n",
       "4  AFP - Tearaway world oil prices, toppling reco...          13   \n",
       "\n",
       "   word_description  char_title  char_description  \n",
       "0                12          49                94  \n",
       "1                30          51               214  \n",
       "2                29          47               184  \n",
       "3                27          60               195  \n",
       "4                24          73               160  "
      ]
     },
     "execution_count": 16,
     "metadata": {},
     "output_type": "execute_result"
    }
   ],
   "source": [
    "train['char_title'] = train['title'].apply(lambda x: len(str(x)))  # number of characters in title\n",
    "train['char_description'] = train['description'].apply(lambda x: len(str(x))) # number of characters in description\n",
    "train.head()"
   ]
  },
  {
   "cell_type": "code",
   "execution_count": 17,
   "metadata": {},
   "outputs": [
    {
     "name": "stdout",
     "output_type": "stream",
     "text": [
      "Average character count in World news title 45.73276666666667\n",
      "Average character count in Sports news title 38.48083333333334\n",
      "Average character count in Business news title 41.7183\n",
      "Average character count in Sci/Tech news title 42.370133333333335\n"
     ]
    }
   ],
   "source": [
    "print('Average character count in World news title',train[train['label'] == 0]['char_title'].mean())\n",
    "print('Average character count in Sports news title',train[train['label'] == 1]['char_title'].mean())\n",
    "print('Average character count in Business news title',train[train['label'] == 2]['char_title'].mean())\n",
    "print('Average character count in Sci/Tech news title',train[train['label'] == 3]['char_title'].mean())"
   ]
  },
  {
   "cell_type": "code",
   "execution_count": 18,
   "metadata": {},
   "outputs": [
    {
     "name": "stdout",
     "output_type": "stream",
     "text": [
      "Average character count in World news description 195.8939\n",
      "Average character count in Sports news description 185.17136666666667\n",
      "Average character count in Business news description 198.69026666666667\n",
      "Average character count in Sci/Tech news description 193.85253333333333\n"
     ]
    }
   ],
   "source": [
    "print('Average character count in World news description',train[train['label'] == 0]['char_description'].mean())\n",
    "print('Average character count in Sports news description',train[train['label'] == 1]['char_description'].mean())\n",
    "print('Average character count in Business news description',train[train['label'] == 2]['char_description'].mean())\n",
    "print('Average character count in Sci/Tech news description',train[train['label'] == 3]['char_description'].mean())"
   ]
  },
  {
   "cell_type": "markdown",
   "metadata": {},
   "source": [
    "* World news has the longest average title character count.\n",
    "* Business news has the longest average description character count. "
   ]
  },
  {
   "cell_type": "code",
   "execution_count": 19,
   "metadata": {},
   "outputs": [
    {
     "data": {
      "image/png": "[encoded data removed]",
      "text/plain": [
       "<Figure size 1080x576 with 4 Axes>"
      ]
     },
     "metadata": {
      "needs_background": "light"
     },
     "output_type": "display_data"
    }
   ],
   "source": [
    "fig,axes = plt.subplots(2,2,figsize=(15,8))\n",
    "fig.suptitle('Title Character Count')\n",
    "\n",
    "train_char = train[train['label']==0]['char_title']\n",
    "axes[0,0].hist(train_char,color='red')\n",
    "axes[0,0].set_title('World news')\n",
    "\n",
    "train_char = train[train['label']==1]['char_title']\n",
    "axes[0,1].hist(train_char,color='green')\n",
    "axes[0,1].set_title('Sports news')\n",
    "\n",
    "train_char = train[train['label']==2]['char_title']\n",
    "axes[1,0].hist(train_char, color='blue')\n",
    "axes[1,0].set_title('Business news')\n",
    "\n",
    "train_char = train[train['label']==3]['char_title']\n",
    "axes[1,1].hist(train_char, color='black')\n",
    "axes[1,1].set_title('Sci/Tech news')\n",
    "\n",
    "plt.show()"
   ]
  },
  {
   "cell_type": "code",
   "execution_count": 20,
   "metadata": {},
   "outputs": [
    {
     "data": {
      "image/png": "[encoded data removed]",
      "text/plain": [
       "<Figure size 1080x576 with 4 Axes>"
      ]
     },
     "metadata": {
      "needs_background": "light"
     },
     "output_type": "display_data"
    }
   ],
   "source": [
    "fig,axes = plt.subplots(2,2,figsize=(15,8))\n",
    "fig.suptitle('Description Character Count')\n",
    "\n",
    "train_char = train[train['label']==0]['char_description']\n",
    "axes[0,0].hist(train_char,color='red')\n",
    "axes[0,0].set_title('World news')\n",
    "\n",
    "train_char = train[train['label']==1]['char_description']\n",
    "axes[0,1].hist(train_char,color='green')\n",
    "axes[0,1].set_title('Sports news')\n",
    "\n",
    "train_char = train[train['label']==2]['char_description']\n",
    "axes[1,0].hist(train_char, color='blue')\n",
    "axes[1,0].set_title('Business news')\n",
    "\n",
    "train_char = train[train['label']==3]['char_description']\n",
    "axes[1,1].hist(train_char, color='black')\n",
    "axes[1,1].set_title('Sci/Tech news')\n",
    "\n",
    "plt.show()"
   ]
  },
  {
   "cell_type": "markdown",
   "metadata": {},
   "source": [
    "---\n",
    "# 5 - Data Preprocessing"
   ]
  },
  {
   "cell_type": "markdown",
   "metadata": {},
   "source": [
    "### Case folding, stopword removal, and lemmatization"
   ]
  },
  {
   "cell_type": "markdown",
   "metadata": {},
   "source": [
    "In order to help the model, we would like to do case folding (convert to lowercase, strip, etc), remove the stopwords, and lemmatize the words. We will use the NLTK library to do this."
   ]
  },
  {
   "cell_type": "code",
   "execution_count": 21,
   "metadata": {},
   "outputs": [],
   "source": [
    "# convert to lowercase, strip and remove punctuations\n",
    "def preprocess(text):\n",
    "    text = text.lower() # lower case\n",
    "    text = text.strip()  # remove leading and trailing spaces\n",
    "    text = re.compile('[%s]' % re.escape(string.punctuation)).sub(' ', text) # remove punctuations  \n",
    "    text = re.sub('\\s+', ' ', text) # remove extra spaces \n",
    "    text = re.sub(r'[^\\w\\s]', ' ', str(text).lower().strip()) # remove special characters\n",
    "    text = re.sub(r'\\d',' ',text) # remove digits\n",
    "    \n",
    "    return text\n",
    " \n",
    "# STOPWORD REMOVAL\n",
    "def stopword(string):\n",
    "    a= [i for i in string.split() if i not in stopwords.words('english')]\n",
    "    return ' '.join(a)\n",
    "\n",
    "# LEMMATIZATION\n",
    "wl = WordNetLemmatizer()\n",
    " \n",
    "# Helper function to map NTLK position tags\n",
    "def get_wordnet_pos(tag):\n",
    "    if tag.startswith('J'):\n",
    "        return wordnet.ADJ\n",
    "    elif tag.startswith('V'):\n",
    "        return wordnet.VERB\n",
    "    elif tag.startswith('N'):\n",
    "        return wordnet.NOUN\n",
    "    elif tag.startswith('R'):\n",
    "        return wordnet.ADV\n",
    "    else:\n",
    "        return wordnet.NOUN\n",
    "\n",
    "# Tokenize the sentence\n",
    "def lemmatizer(string):\n",
    "    word_pos_tags = nltk.pos_tag(word_tokenize(string)) # Get position tags\n",
    "    a=[wl.lemmatize(tag[0], get_wordnet_pos(tag[1])) for idx, tag in enumerate(word_pos_tags)] # Map the position tag and lemmatize the word/token\n",
    "    return \" \".join(a)"
   ]
  },
  {
   "cell_type": "code",
   "execution_count": 22,
   "metadata": {},
   "outputs": [],
   "source": [
    "def finalpreprocess(string):\n",
    "    return lemmatizer(stopword(preprocess(string)))"
   ]
  },
  {
   "cell_type": "code",
   "execution_count": 23,
   "metadata": {},
   "outputs": [],
   "source": [
    "train['clean_desc'] = train['description'].apply(lambda x: finalpreprocess(x))"
   ]
  },
  {
   "cell_type": "code",
   "execution_count": 24,
   "metadata": {},
   "outputs": [],
   "source": [
    "train['clean_title'] = train['title'].apply(lambda x: finalpreprocess(x))"
   ]
  },
  {
   "cell_type": "code",
   "execution_count": 25,
   "metadata": {},
   "outputs": [],
   "source": [
    "test['clean_desc'] = test['description'].apply(lambda x: finalpreprocess(x))"
   ]
  },
  {
   "cell_type": "code",
   "execution_count": 26,
   "metadata": {},
   "outputs": [],
   "source": [
    "test['clean_title'] = test['title'].apply(lambda x: finalpreprocess(x))"
   ]
  },
  {
   "cell_type": "code",
   "execution_count": 27,
   "metadata": {},
   "outputs": [
    {
     "data": {
      "text/html": [
       "<div>\n",
       "<style scoped>\n",
       "    .dataframe tbody tr th:only-of-type {\n",
       "        vertical-align: middle;\n",
       "    }\n",
       "\n",
       "    .dataframe tbody tr th {\n",
       "        vertical-align: top;\n",
       "    }\n",
       "\n",
       "    .dataframe thead th {\n",
       "        text-align: right;\n",
       "    }\n",
       "</style>\n",
       "<table border=\"1\" class=\"dataframe\">\n",
       "  <thead>\n",
       "    <tr style=\"text-align: right;\">\n",
       "      <th></th>\n",
       "      <th>title</th>\n",
       "      <th>clean_title</th>\n",
       "      <th>description</th>\n",
       "      <th>clean_desc</th>\n",
       "    </tr>\n",
       "  </thead>\n",
       "  <tbody>\n",
       "    <tr>\n",
       "      <th>0</th>\n",
       "      <td>Wall St. Bears Claw Back Into the Black (Reuters)</td>\n",
       "      <td>wall st bear claw back black reuters</td>\n",
       "      <td>Reuters - Short-sellers, Wall Street's dwindli...</td>\n",
       "      <td>reuters short seller wall street dwindle band ...</td>\n",
       "    </tr>\n",
       "    <tr>\n",
       "      <th>1</th>\n",
       "      <td>Carlyle Looks Toward Commercial Aerospace (Reu...</td>\n",
       "      <td>carlyle look toward commercial aerospace reuters</td>\n",
       "      <td>Reuters - Private investment firm Carlyle Grou...</td>\n",
       "      <td>reuters private investment firm carlyle group ...</td>\n",
       "    </tr>\n",
       "    <tr>\n",
       "      <th>2</th>\n",
       "      <td>Oil and Economy Cloud Stocks' Outlook (Reuters)</td>\n",
       "      <td>oil economy cloud stock outlook reuters</td>\n",
       "      <td>Reuters - Soaring crude prices plus worries\\ab...</td>\n",
       "      <td>reuters soar crude price plus worry economy ou...</td>\n",
       "    </tr>\n",
       "    <tr>\n",
       "      <th>3</th>\n",
       "      <td>Iraq Halts Oil Exports from Main Southern Pipe...</td>\n",
       "      <td>iraq halt oil export main southern pipeline re...</td>\n",
       "      <td>Reuters - Authorities have halted oil export\\f...</td>\n",
       "      <td>reuters authority halt oil export flow main pi...</td>\n",
       "    </tr>\n",
       "    <tr>\n",
       "      <th>4</th>\n",
       "      <td>Oil prices soar to all-time record, posing new...</td>\n",
       "      <td>oil price soar time record pose new menace u e...</td>\n",
       "      <td>AFP - Tearaway world oil prices, toppling reco...</td>\n",
       "      <td>afp tearaway world oil price toppling record s...</td>\n",
       "    </tr>\n",
       "  </tbody>\n",
       "</table>\n",
       "</div>"
      ],
      "text/plain": [
       "                                               title  \\\n",
       "0  Wall St. Bears Claw Back Into the Black (Reuters)   \n",
       "1  Carlyle Looks Toward Commercial Aerospace (Reu...   \n",
       "2    Oil and Economy Cloud Stocks' Outlook (Reuters)   \n",
       "3  Iraq Halts Oil Exports from Main Southern Pipe...   \n",
       "4  Oil prices soar to all-time record, posing new...   \n",
       "\n",
       "                                         clean_title  \\\n",
       "0               wall st bear claw back black reuters   \n",
       "1   carlyle look toward commercial aerospace reuters   \n",
       "2            oil economy cloud stock outlook reuters   \n",
       "3  iraq halt oil export main southern pipeline re...   \n",
       "4  oil price soar time record pose new menace u e...   \n",
       "\n",
       "                                         description  \\\n",
       "0  Reuters - Short-sellers, Wall Street's dwindli...   \n",
       "1  Reuters - Private investment firm Carlyle Grou...   \n",
       "2  Reuters - Soaring crude prices plus worries\\ab...   \n",
       "3  Reuters - Authorities have halted oil export\\f...   \n",
       "4  AFP - Tearaway world oil prices, toppling reco...   \n",
       "\n",
       "                                          clean_desc  \n",
       "0  reuters short seller wall street dwindle band ...  \n",
       "1  reuters private investment firm carlyle group ...  \n",
       "2  reuters soar crude price plus worry economy ou...  \n",
       "3  reuters authority halt oil export flow main pi...  \n",
       "4  afp tearaway world oil price toppling record s...  "
      ]
     },
     "execution_count": 27,
     "metadata": {},
     "output_type": "execute_result"
    }
   ],
   "source": [
    "train[['title', 'clean_title', 'description', 'clean_desc']].head()"
   ]
  },
  {
   "cell_type": "markdown",
   "metadata": {},
   "source": [
    "The result of the preprocessing can be seen above."
   ]
  },
  {
   "cell_type": "markdown",
   "metadata": {},
   "source": [
    "### Split between features and target"
   ]
  },
  {
   "cell_type": "code",
   "execution_count": 28,
   "metadata": {},
   "outputs": [],
   "source": [
    "X_train = train[['clean_title', 'clean_desc']]\n",
    "y_train = train['label']\n",
    "X_test = test[['clean_title', 'clean_desc']]\n",
    "y_test = test['label']"
   ]
  },
  {
   "cell_type": "markdown",
   "metadata": {},
   "source": [
    "### Extract data for model inference"
   ]
  },
  {
   "cell_type": "code",
   "execution_count": 29,
   "metadata": {},
   "outputs": [],
   "source": [
    "# create validation set\n",
    "X_train, X_val, y_train, y_val = train_test_split(X_train, y_train, test_size=0.1, random_state=42)"
   ]
  },
  {
   "cell_type": "code",
   "execution_count": 30,
   "metadata": {},
   "outputs": [
    {
     "name": "stdout",
     "output_type": "stream",
     "text": [
      "Shape of the train set (row, column) :  (108000, 2)\n",
      "Shape of the validation set (row, column) :  (12000, 2)\n",
      "Shape of the test set (row, column) :  (7600, 2)\n"
     ]
    }
   ],
   "source": [
    "print('Shape of the train set (row, column) : ', X_train.shape)\n",
    "print('Shape of the validation set (row, column) : ', X_val.shape)\n",
    "print('Shape of the test set (row, column) : ', X_test.shape)"
   ]
  },
  {
   "cell_type": "markdown",
   "metadata": {},
   "source": [
    "* We will train our model on the train set, and validate the model on the validation set. \n",
    "* The test set will be used for model inference"
   ]
  },
  {
   "cell_type": "markdown",
   "metadata": {},
   "source": [
    "### Tokenization"
   ]
  },
  {
   "cell_type": "code",
   "execution_count": 31,
   "metadata": {},
   "outputs": [
    {
     "data": {
      "text/plain": [
       "6"
      ]
     },
     "execution_count": 31,
     "metadata": {},
     "output_type": "execute_result"
    }
   ],
   "source": [
    "round(sum([len(i.split()) for i in X_train.clean_title]) / len(X_train.clean_title))"
   ]
  },
  {
   "cell_type": "code",
   "execution_count": 32,
   "metadata": {},
   "outputs": [
    {
     "data": {
      "text/plain": [
       "20"
      ]
     },
     "execution_count": 32,
     "metadata": {},
     "output_type": "execute_result"
    }
   ],
   "source": [
    "round(sum([len(i.split()) for i in X_train.clean_desc]) / len(X_train.clean_desc))"
   ]
  },
  {
   "cell_type": "code",
   "execution_count": 33,
   "metadata": {},
   "outputs": [],
   "source": [
    "max_vocab_length = 3500\n",
    "max_length_title = 6\n",
    "max_length_desc = 20"
   ]
  },
  {
   "cell_type": "code",
   "execution_count": 34,
   "metadata": {},
   "outputs": [],
   "source": [
    "# setup vect\n",
    "text_vectorization_title = TextVectorization(max_tokens=max_vocab_length,\n",
    "                                       standardize=\"lower_and_strip_punctuation\",\n",
    "                                       split=\"whitespace\",\n",
    "                                       ngrams=None,\n",
    "                                       output_mode=\"int\",\n",
    "                                       output_sequence_length=max_length_title,\n",
    "                                       input_shape=(1,) \n",
    "                                       )"
   ]
  },
  {
   "cell_type": "code",
   "execution_count": 35,
   "metadata": {},
   "outputs": [],
   "source": [
    "text_vectorization_title.adapt(X_train.clean_title)"
   ]
  },
  {
   "cell_type": "code",
   "execution_count": 36,
   "metadata": {},
   "outputs": [],
   "source": [
    "text_vectorization_desc = TextVectorization(max_tokens=max_vocab_length,\n",
    "                                       standardize=\"lower_and_strip_punctuation\",\n",
    "                                       split=\"whitespace\",\n",
    "                                       ngrams=None,\n",
    "                                       output_mode=\"int\",\n",
    "                                       output_sequence_length=max_length_desc,\n",
    "                                       input_shape=(1,) \n",
    "                                       )"
   ]
  },
  {
   "cell_type": "code",
   "execution_count": 37,
   "metadata": {},
   "outputs": [],
   "source": [
    "text_vectorization_desc.adapt(X_train.clean_desc)"
   ]
  },
  {
   "cell_type": "code",
   "execution_count": 38,
   "metadata": {},
   "outputs": [],
   "source": [
    "# Embedding layer\n",
    "embedding_title = Embedding(input_dim=max_vocab_length,\n",
    "                      output_dim=128,\n",
    "                      embeddings_initializer=\"uniform\",\n",
    "                      input_length=max_length_title, name='Title-Embedding'\n",
    "                      )"
   ]
  },
  {
   "cell_type": "code",
   "execution_count": 39,
   "metadata": {},
   "outputs": [],
   "source": [
    "embedding_desc = Embedding(input_dim=max_vocab_length,\n",
    "                      output_dim=128,\n",
    "                      embeddings_initializer=\"uniform\",\n",
    "                      input_length=max_length_desc, name='Desc-Embedding'\n",
    "                      )"
   ]
  },
  {
   "cell_type": "markdown",
   "metadata": {},
   "source": [
    "### Target Encoding"
   ]
  },
  {
   "cell_type": "code",
   "execution_count": 40,
   "metadata": {},
   "outputs": [],
   "source": [
    "y_train_ohe = to_categorical(y_train)\n",
    "y_val_ohe = to_categorical(y_val)\n",
    "y_test_ohe = to_categorical(y_test)"
   ]
  },
  {
   "cell_type": "markdown",
   "metadata": {},
   "source": [
    "### Data pipeline"
   ]
  },
  {
   "cell_type": "code",
   "execution_count": 41,
   "metadata": {},
   "outputs": [],
   "source": [
    "train_data = tf.data.Dataset.from_tensor_slices((X_train.clean_title, X_train.clean_desc, y_train_ohe))\n",
    "val_data = tf.data.Dataset.from_tensor_slices((X_val.clean_title, X_val.clean_desc, y_val_ohe))\n",
    "test_data = tf.data.Dataset.from_tensor_slices((X_test.clean_title, X_test.clean_desc, y_test_ohe))"
   ]
  },
  {
   "cell_type": "markdown",
   "metadata": {},
   "source": [
    "---\n",
    "# 6 - Model Definition"
   ]
  },
  {
   "cell_type": "markdown",
   "metadata": {},
   "source": [
    "## Model 1 "
   ]
  },
  {
   "cell_type": "markdown",
   "metadata": {},
   "source": [
    "Model 1 architecture includes a Global Average Pooling 1D layer."
   ]
  },
  {
   "cell_type": "code",
   "execution_count": 42,
   "metadata": {},
   "outputs": [],
   "source": [
    "title_in = Input(shape=(1,), dtype=\"string\", name='Title-Input')\n",
    "title_vec = text_vectorization_title(title_in)\n",
    "title_emb = embedding_title(title_vec)\n",
    "title_x = GlobalAveragePooling1D()(title_emb)\n",
    "\n",
    "desc_in = Input(shape=(1,), dtype=\"string\", name='Desc-Input')\n",
    "desc_vec = text_vectorization_desc(desc_in)\n",
    "desc_emb = embedding_desc(desc_vec)\n",
    "desc_x = GlobalAveragePooling1D()(desc_emb)\n",
    "\n",
    "prod = Dot(name='Dot-Product', axes=1)([title_x, desc_x])\n",
    "hidden1 = Dense(16, activation='relu')(prod)\n",
    "out = Dense(4, activation='softmax')(hidden1)\n",
    "\n",
    "model_1 = Model([title_in, desc_in], out)\n",
    "\n",
    "model_1.compile(loss='categorical_crossentropy',\n",
    "              optimizer='adam',\n",
    "              metrics=['accuracy'])"
   ]
  },
  {
   "cell_type": "markdown",
   "metadata": {},
   "source": [
    "## Model 2"
   ]
  },
  {
   "cell_type": "markdown",
   "metadata": {},
   "source": [
    "Model 2 architecture includes a GRU layer, replacing the Global Average Pooling 1D layer. Additionally, it also has dropout layers."
   ]
  },
  {
   "cell_type": "code",
   "execution_count": 43,
   "metadata": {},
   "outputs": [],
   "source": [
    "title_in = Input(shape=(1,), dtype=\"string\", name='Title-Input')\n",
    "title_vec = text_vectorization_title(title_in)\n",
    "title_emb = embedding_title(title_vec)\n",
    "title_do1 = Dropout(0.3)(title_emb)\n",
    "title_gru = GRU(2)(title_do1)\n",
    "title_do2 = Dropout(0.3)(title_gru)\n",
    "\n",
    "desc_in = Input(shape=(1,), dtype=\"string\", name='Desc-Input')\n",
    "desc_vec = text_vectorization_desc(desc_in)\n",
    "desc_emb = embedding_desc(desc_vec)\n",
    "desc_do1 = Dropout(0.3)(desc_emb)\n",
    "desc_gru = GRU(2)(desc_do1)\n",
    "desc_do2 = Dropout(0.3)(desc_gru)\n",
    "\n",
    "prod = Dot(name='Dot-Product', axes=1)([title_do2, desc_do2])\n",
    "hidden1 = Dense(16, activation='relu')(prod)\n",
    "out = Dense(4, activation='softmax')(hidden1)\n",
    "\n",
    "model_2 = Model([title_in, desc_in], out)\n",
    "\n",
    "model_2.compile(loss='categorical_crossentropy',\n",
    "              optimizer='adam',\n",
    "              metrics=['accuracy'])"
   ]
  },
  {
   "cell_type": "markdown",
   "metadata": {},
   "source": [
    "## Model 3"
   ]
  },
  {
   "cell_type": "markdown",
   "metadata": {},
   "source": [
    "Model 3 architecture includes an LSTM layer, replacing the GRU layer."
   ]
  },
  {
   "cell_type": "code",
   "execution_count": 44,
   "metadata": {},
   "outputs": [],
   "source": [
    "title_in = Input(shape=(1,), dtype=\"string\", name='Title-Input')\n",
    "title_vec = text_vectorization_title(title_in)\n",
    "title_emb = embedding_title(title_vec)\n",
    "title_do1 = Dropout(0.3)(title_emb)\n",
    "title_gru = LSTM(4)(title_do1)\n",
    "title_do2 = Dropout(0.3)(title_gru)\n",
    "\n",
    "desc_in = Input(shape=(1,), dtype=\"string\", name='Desc-Input')\n",
    "desc_vec = text_vectorization_desc(desc_in)\n",
    "desc_emb = embedding_desc(desc_vec)\n",
    "desc_do1 = Dropout(0.3)(desc_emb)\n",
    "desc_gru = LSTM(4)(desc_do1)\n",
    "desc_do2 = Dropout(0.3)(desc_gru)\n",
    "\n",
    "prod = Dot(name='Dot-Product', axes=1)([title_do2, desc_do2])\n",
    "hidden1 = Dense(16, activation='relu')(prod)\n",
    "out = Dense(4, activation='softmax')(hidden1)\n",
    "\n",
    "model_3 = Model([title_in, desc_in], out)\n",
    "\n",
    "model_3.compile(loss='categorical_crossentropy',\n",
    "              optimizer='adam',\n",
    "              metrics=['accuracy'])"
   ]
  },
  {
   "cell_type": "markdown",
   "metadata": {},
   "source": [
    "---\n",
    "# 7 - Model Training"
   ]
  },
  {
   "cell_type": "markdown",
   "metadata": {},
   "source": [
    "## Model 1"
   ]
  },
  {
   "cell_type": "code",
   "execution_count": 45,
   "metadata": {},
   "outputs": [
    {
     "name": "stdout",
     "output_type": "stream",
     "text": [
      "Epoch 1/10\n",
      "3375/3375 [==============================] - 29s 8ms/step - loss: 0.7338 - accuracy: 0.6590 - val_loss: 0.5393 - val_accuracy: 0.8143\n",
      "Epoch 2/10\n",
      "3375/3375 [==============================] - 27s 8ms/step - loss: 0.4859 - accuracy: 0.8377 - val_loss: 0.4825 - val_accuracy: 0.8369\n",
      "Epoch 3/10\n",
      "3375/3375 [==============================] - 27s 8ms/step - loss: 0.4259 - accuracy: 0.8601 - val_loss: 0.4681 - val_accuracy: 0.8481\n",
      "Epoch 4/10\n",
      "3375/3375 [==============================] - 27s 8ms/step - loss: 0.3865 - accuracy: 0.8750 - val_loss: 0.4683 - val_accuracy: 0.8497\n",
      "Epoch 5/10\n",
      "3375/3375 [==============================] - 28s 8ms/step - loss: 0.3528 - accuracy: 0.8861 - val_loss: 0.4775 - val_accuracy: 0.8496\n",
      "Epoch 6/10\n",
      "3375/3375 [==============================] - 27s 8ms/step - loss: 0.3221 - accuracy: 0.8959 - val_loss: 0.5003 - val_accuracy: 0.8466\n",
      "Epoch 7/10\n",
      "3375/3375 [==============================] - 27s 8ms/step - loss: 0.2930 - accuracy: 0.9037 - val_loss: 0.5131 - val_accuracy: 0.8478\n",
      "Epoch 8/10\n",
      "3375/3375 [==============================] - 27s 8ms/step - loss: 0.2644 - accuracy: 0.9145 - val_loss: 0.5495 - val_accuracy: 0.8436\n",
      "Epoch 9/10\n",
      "3375/3375 [==============================] - 28s 8ms/step - loss: 0.2396 - accuracy: 0.9238 - val_loss: 0.5870 - val_accuracy: 0.8395\n",
      "Epoch 10/10\n",
      "3375/3375 [==============================] - 27s 8ms/step - loss: 0.2156 - accuracy: 0.9327 - val_loss: 0.6594 - val_accuracy: 0.8341\n"
     ]
    }
   ],
   "source": [
    "model_1_hist = model_1.fit(x = [X_train.clean_title, X_train.clean_desc],\n",
    "                         y = y_train_ohe,\n",
    "                         epochs=10,\n",
    "                         validation_data=([X_val.clean_title, X_val.clean_desc], y_val_ohe))"
   ]
  },
  {
   "cell_type": "markdown",
   "metadata": {},
   "source": [
    "## Model 2"
   ]
  },
  {
   "cell_type": "code",
   "execution_count": 46,
   "metadata": {},
   "outputs": [
    {
     "name": "stdout",
     "output_type": "stream",
     "text": [
      "Epoch 1/10\n",
      "3375/3375 [==============================] - 44s 11ms/step - loss: 1.0338 - accuracy: 0.5459 - val_loss: 0.6557 - val_accuracy: 0.8063\n",
      "Epoch 2/10\n",
      "3375/3375 [==============================] - 38s 11ms/step - loss: 0.8694 - accuracy: 0.6516 - val_loss: 0.6106 - val_accuracy: 0.8211\n",
      "Epoch 3/10\n",
      "3375/3375 [==============================] - 37s 11ms/step - loss: 0.8360 - accuracy: 0.6659 - val_loss: 0.6022 - val_accuracy: 0.8165\n",
      "Epoch 4/10\n",
      "3375/3375 [==============================] - 38s 11ms/step - loss: 0.8180 - accuracy: 0.6723 - val_loss: 0.5777 - val_accuracy: 0.8314\n",
      "Epoch 5/10\n",
      "3375/3375 [==============================] - 37s 11ms/step - loss: 0.8035 - accuracy: 0.6785 - val_loss: 0.5539 - val_accuracy: 0.8385\n",
      "Epoch 6/10\n",
      "3375/3375 [==============================] - 42s 12ms/step - loss: 0.7988 - accuracy: 0.6792 - val_loss: 0.5625 - val_accuracy: 0.8322\n",
      "Epoch 7/10\n",
      "3375/3375 [==============================] - 41s 12ms/step - loss: 0.7959 - accuracy: 0.6793 - val_loss: 0.5655 - val_accuracy: 0.8282\n",
      "Epoch 8/10\n",
      "3375/3375 [==============================] - 40s 12ms/step - loss: 0.7931 - accuracy: 0.6798 - val_loss: 0.5576 - val_accuracy: 0.8353\n",
      "Epoch 9/10\n",
      "3375/3375 [==============================] - 38s 11ms/step - loss: 0.7837 - accuracy: 0.6839 - val_loss: 0.5454 - val_accuracy: 0.8389\n",
      "Epoch 10/10\n",
      "3375/3375 [==============================] - 38s 11ms/step - loss: 0.7800 - accuracy: 0.6857 - val_loss: 0.5549 - val_accuracy: 0.8336\n"
     ]
    }
   ],
   "source": [
    "model_2_hist = model_2.fit(x = [X_train.clean_title, X_train.clean_desc],\n",
    "                         y = y_train_ohe,\n",
    "                         epochs=10,\n",
    "                         validation_data=([X_val.clean_title, X_val.clean_desc], y_val_ohe))"
   ]
  },
  {
   "cell_type": "markdown",
   "metadata": {},
   "source": [
    "## Model 3"
   ]
  },
  {
   "cell_type": "code",
   "execution_count": 47,
   "metadata": {},
   "outputs": [
    {
     "name": "stdout",
     "output_type": "stream",
     "text": [
      "Epoch 1/10\n",
      "3375/3375 [==============================] - 44s 12ms/step - loss: 0.7845 - accuracy: 0.7060 - val_loss: 0.5458 - val_accuracy: 0.8449\n",
      "Epoch 2/10\n",
      "3375/3375 [==============================] - 41s 12ms/step - loss: 0.6355 - accuracy: 0.7887 - val_loss: 0.5013 - val_accuracy: 0.8488\n",
      "Epoch 3/10\n",
      "3375/3375 [==============================] - 41s 12ms/step - loss: 0.6016 - accuracy: 0.8005 - val_loss: 0.4839 - val_accuracy: 0.8505\n",
      "Epoch 4/10\n",
      "3375/3375 [==============================] - 41s 12ms/step - loss: 0.5843 - accuracy: 0.8054 - val_loss: 0.4790 - val_accuracy: 0.8526\n",
      "Epoch 5/10\n",
      "3375/3375 [==============================] - 41s 12ms/step - loss: 0.5707 - accuracy: 0.8096 - val_loss: 0.4697 - val_accuracy: 0.8586\n",
      "Epoch 6/10\n",
      "3375/3375 [==============================] - 43s 13ms/step - loss: 0.5607 - accuracy: 0.8137 - val_loss: 0.4601 - val_accuracy: 0.8587\n",
      "Epoch 7/10\n",
      "3375/3375 [==============================] - 44s 13ms/step - loss: 0.5560 - accuracy: 0.8158 - val_loss: 0.4697 - val_accuracy: 0.8555\n",
      "Epoch 8/10\n",
      "3375/3375 [==============================] - 43s 13ms/step - loss: 0.5484 - accuracy: 0.8192 - val_loss: 0.4628 - val_accuracy: 0.8543\n",
      "Epoch 9/10\n",
      "3375/3375 [==============================] - 42s 12ms/step - loss: 0.5434 - accuracy: 0.8188 - val_loss: 0.4621 - val_accuracy: 0.8601\n",
      "Epoch 10/10\n",
      "3375/3375 [==============================] - 41s 12ms/step - loss: 0.5410 - accuracy: 0.8197 - val_loss: 0.4621 - val_accuracy: 0.8579\n"
     ]
    }
   ],
   "source": [
    "model_3_hist = model_3.fit(x = [X_train.clean_title, X_train.clean_desc],\n",
    "                         y = y_train_ohe,\n",
    "                         epochs=10,\n",
    "                         validation_data=([X_val.clean_title, X_val.clean_desc], y_val_ohe))"
   ]
  },
  {
   "cell_type": "markdown",
   "metadata": {},
   "source": [
    "---\n",
    "# 8 - Model Evaluation"
   ]
  },
  {
   "cell_type": "markdown",
   "metadata": {},
   "source": [
    "## Model 1"
   ]
  },
  {
   "cell_type": "markdown",
   "metadata": {},
   "source": [
    "Diagram for model 1 is as follows:"
   ]
  },
  {
   "cell_type": "code",
   "execution_count": 48,
   "metadata": {},
   "outputs": [
    {
     "data": {
      "image/png": "[encoded data removed]",
      "text/plain": [
       "<IPython.core.display.Image object>"
      ]
     },
     "execution_count": 48,
     "metadata": {},
     "output_type": "execute_result"
    }
   ],
   "source": [
    "tf.keras.utils.plot_model(model_1, show_shapes=True)"
   ]
  },
  {
   "cell_type": "code",
   "execution_count": 49,
   "metadata": {},
   "outputs": [
    {
     "data": {
      "image/png": "[encoded data removed]",
      "text/plain": [
       "<Figure size 432x288 with 1 Axes>"
      ]
     },
     "metadata": {
      "needs_background": "light"
     },
     "output_type": "display_data"
    }
   ],
   "source": [
    "metrics = pd.DataFrame(model_1_hist.history)\n",
    "metrics[['loss', 'val_loss']].plot();"
   ]
  },
  {
   "cell_type": "markdown",
   "metadata": {},
   "source": [
    "Model 1 is seems to be overfitted. The validation loss keeps increasing."
   ]
  },
  {
   "cell_type": "code",
   "execution_count": 50,
   "metadata": {},
   "outputs": [
    {
     "name": "stdout",
     "output_type": "stream",
     "text": [
      "375/375 [==============================] - 1s 3ms/step\n",
      "              precision    recall  f1-score   support\n",
      "\n",
      "           0       0.48      0.92      0.63      2971\n",
      "           1       0.38      0.27      0.32      3037\n",
      "           2       0.53      0.48      0.50      2981\n",
      "           3       0.92      0.46      0.62      3011\n",
      "\n",
      "    accuracy                           0.53     12000\n",
      "   macro avg       0.58      0.53      0.52     12000\n",
      "weighted avg       0.58      0.53      0.52     12000\n",
      "\n"
     ]
    }
   ],
   "source": [
    "y_pred_1 = model_1.predict([X_val.clean_title, X_val.clean_desc])\n",
    "y_pred_1 = y_pred_1.argmax(axis=1)\n",
    "print(classification_report(y_val, y_pred_1))"
   ]
  },
  {
   "cell_type": "markdown",
   "metadata": {},
   "source": [
    "Since the dataset is balanced, we can focus on the accuracy score to evaluate the model. As per classification report above, model 1 achieves an accuracy of 63%. It is not a great number obviously. Perhaps it happens due to low number of epochs."
   ]
  },
  {
   "cell_type": "markdown",
   "metadata": {},
   "source": [
    "## Model 2"
   ]
  },
  {
   "cell_type": "code",
   "execution_count": 51,
   "metadata": {},
   "outputs": [
    {
     "data": {
      "image/png": "[encoded data removed]",
      "text/plain": [
       "<IPython.core.display.Image object>"
      ]
     },
     "execution_count": 51,
     "metadata": {},
     "output_type": "execute_result"
    }
   ],
   "source": [
    "tf.keras.utils.plot_model(model_2, show_shapes=True)"
   ]
  },
  {
   "cell_type": "code",
   "execution_count": 52,
   "metadata": {},
   "outputs": [
    {
     "data": {
      "image/png": "[encoded data removed]",
      "text/plain": [
       "<Figure size 432x288 with 1 Axes>"
      ]
     },
     "metadata": {
      "needs_background": "light"
     },
     "output_type": "display_data"
    }
   ],
   "source": [
    "metrics = pd.DataFrame(model_2_hist.history)\n",
    "metrics[['loss', 'val_loss']].plot();"
   ]
  },
  {
   "cell_type": "markdown",
   "metadata": {},
   "source": [
    "Model 2 doesn't look very good either, according to above plot. "
   ]
  },
  {
   "cell_type": "code",
   "execution_count": 53,
   "metadata": {},
   "outputs": [
    {
     "name": "stdout",
     "output_type": "stream",
     "text": [
      "375/375 [==============================] - 2s 4ms/step\n",
      "              precision    recall  f1-score   support\n",
      "\n",
      "           0       0.94      0.76      0.84      2971\n",
      "           1       0.87      0.91      0.89      3037\n",
      "           2       0.75      0.81      0.78      2981\n",
      "           3       0.80      0.86      0.83      3011\n",
      "\n",
      "    accuracy                           0.83     12000\n",
      "   macro avg       0.84      0.83      0.83     12000\n",
      "weighted avg       0.84      0.83      0.83     12000\n",
      "\n"
     ]
    }
   ],
   "source": [
    "y_pred_2 = model_2.predict([X_val.clean_title, X_val.clean_desc])\n",
    "y_pred_2 = y_pred_2.argmax(axis=1)\n",
    "print(classification_report(y_val, y_pred_2))"
   ]
  },
  {
   "cell_type": "markdown",
   "metadata": {},
   "source": [
    "Model 2 has better accuracy than model 1, achieving an accuracy of 80%."
   ]
  },
  {
   "cell_type": "markdown",
   "metadata": {},
   "source": [
    "## Model 3"
   ]
  },
  {
   "cell_type": "code",
   "execution_count": 54,
   "metadata": {},
   "outputs": [
    {
     "data": {
      "image/png": "[encoded data removed]",
      "text/plain": [
       "<IPython.core.display.Image object>"
      ]
     },
     "execution_count": 54,
     "metadata": {},
     "output_type": "execute_result"
    }
   ],
   "source": [
    "tf.keras.utils.plot_model(model_3, show_shapes=True)"
   ]
  },
  {
   "cell_type": "code",
   "execution_count": 55,
   "metadata": {},
   "outputs": [
    {
     "data": {
      "image/png": "[encoded data removed]",
      "text/plain": [
       "<Figure size 432x288 with 1 Axes>"
      ]
     },
     "metadata": {
      "needs_background": "light"
     },
     "output_type": "display_data"
    }
   ],
   "source": [
    "metrics = pd.DataFrame(model_3_hist.history)\n",
    "metrics[['loss', 'val_loss']].plot();"
   ]
  },
  {
   "cell_type": "markdown",
   "metadata": {},
   "source": [
    "Model 3 loss graph doesn't look very good either. It must be due to the lack of epochs."
   ]
  },
  {
   "cell_type": "code",
   "execution_count": 56,
   "metadata": {},
   "outputs": [
    {
     "name": "stdout",
     "output_type": "stream",
     "text": [
      "375/375 [==============================] - 3s 5ms/step\n",
      "              precision    recall  f1-score   support\n",
      "\n",
      "           0       0.95      0.75      0.84      2971\n",
      "           1       0.91      0.93      0.92      3037\n",
      "           2       0.80      0.86      0.83      2981\n",
      "           3       0.80      0.89      0.84      3011\n",
      "\n",
      "    accuracy                           0.86     12000\n",
      "   macro avg       0.87      0.86      0.86     12000\n",
      "weighted avg       0.87      0.86      0.86     12000\n",
      "\n"
     ]
    }
   ],
   "source": [
    "y_pred_3 = model_3.predict([X_val.clean_title, X_val.clean_desc])\n",
    "y_pred_3 = y_pred_3.argmax(axis=1)\n",
    "print(classification_report(y_val, y_pred_3))"
   ]
  },
  {
   "cell_type": "markdown",
   "metadata": {},
   "source": [
    "Model 3 has even better accuracy compared to model 1 and 2. It achieves an accuracy of 85.2%."
   ]
  },
  {
   "cell_type": "markdown",
   "metadata": {},
   "source": [
    "## Comparison"
   ]
  },
  {
   "cell_type": "code",
   "execution_count": 57,
   "metadata": {},
   "outputs": [
    {
     "name": "stdout",
     "output_type": "stream",
     "text": [
      "Model 1 Accuracy: 0.53\n",
      "Model 2 Accuracy: 0.834\n",
      "Model 3 Accuracy: 0.858\n"
     ]
    }
   ],
   "source": [
    "print('Model 1 Accuracy: {}'.format(np.around(accuracy_score(y_val, y_pred_1), decimals=3)))\n",
    "print('Model 2 Accuracy: {}'.format(np.around(accuracy_score(y_val, y_pred_2), decimals=3)))\n",
    "print('Model 3 Accuracy: {}'.format(np.around(accuracy_score(y_val, y_pred_3), decimals=3)))"
   ]
  },
  {
   "cell_type": "markdown",
   "metadata": {},
   "source": [
    "The LSTM model (model 3) has the highest accuracy with 85.2%."
   ]
  },
  {
   "cell_type": "markdown",
   "metadata": {},
   "source": [
    "## Model Improvement"
   ]
  },
  {
   "cell_type": "markdown",
   "metadata": {},
   "source": [
    "We will try to improve the LSTM model by doing trial and error."
   ]
  },
  {
   "cell_type": "markdown",
   "metadata": {},
   "source": [
    "#### 1st trial"
   ]
  },
  {
   "cell_type": "markdown",
   "metadata": {},
   "source": [
    "Adding more neurons in the LSTM layer, from 4 to 8."
   ]
  },
  {
   "cell_type": "code",
   "execution_count": 58,
   "metadata": {},
   "outputs": [],
   "source": [
    "# # First trial\n",
    "# title_in = Input(shape=(1,), dtype=\"string\", name='Title-Input')\n",
    "# title_vec = text_vectorization_title(title_in)\n",
    "# title_emb = embedding_title(title_vec)\n",
    "# title_do1 = Dropout(0.3)(title_emb)\n",
    "# title_gru = LSTM(8)(title_do1)\n",
    "# title_do2 = Dropout(0.3)(title_gru)\n",
    "\n",
    "# desc_in = Input(shape=(1,), dtype=\"string\", name='Desc-Input')\n",
    "# desc_vec = text_vectorization_desc(desc_in)\n",
    "# desc_emb = embedding_desc(desc_vec)\n",
    "# desc_do1 = Dropout(0.3)(desc_emb)\n",
    "# desc_gru = LSTM(8)(desc_do1)   # 8 neurons\n",
    "# desc_do2 = Dropout(0.3)(desc_gru)\n",
    "\n",
    "# prod = Dot(name='Dot-Product', axes=1)([title_do2, desc_do2])\n",
    "# hidden1 = Dense(16, activation='relu')(prod)\n",
    "# out = Dense(4, activation='softmax')(hidden1)\n",
    "\n",
    "# tuned_model = Model([title_in, desc_in], out)\n",
    "\n",
    "# tuned_model.compile(loss='categorical_crossentropy',\n",
    "#               optimizer='adam',\n",
    "#               metrics=['accuracy'])"
   ]
  },
  {
   "cell_type": "code",
   "execution_count": 59,
   "metadata": {},
   "outputs": [],
   "source": [
    "# tuned_model_hist = tuned_model.fit(x = [X_train.clean_title, X_train.clean_desc],\n",
    "#                          y = y_train_ohe,\n",
    "#                          epochs=10,\n",
    "#                          validation_data=([X_val.clean_title, X_val.clean_desc], y_val_ohe))"
   ]
  },
  {
   "cell_type": "code",
   "execution_count": 60,
   "metadata": {},
   "outputs": [],
   "source": [
    "# y_pred_t = tuned_model.predict([X_val.clean_title, X_val.clean_desc])\n",
    "# y_pred_t = y_pred_t.argmax(axis=1)\n",
    "# print('Tuned Model Accuracy: {}'.format(np.around(accuracy_score(y_val, y_pred_t), decimals=3)))"
   ]
  },
  {
   "cell_type": "markdown",
   "metadata": {},
   "source": [
    "The accuracy has not improved."
   ]
  },
  {
   "cell_type": "markdown",
   "metadata": {},
   "source": [
    "#### 2nd trial"
   ]
  },
  {
   "cell_type": "markdown",
   "metadata": {},
   "source": [
    "Reduce the number of neurons in the LSTM layer, from 4 to 2."
   ]
  },
  {
   "cell_type": "code",
   "execution_count": 61,
   "metadata": {},
   "outputs": [],
   "source": [
    "# # Second trial\n",
    "# title_in = Input(shape=(1,), dtype=\"string\", name='Title-Input')\n",
    "# title_vec = text_vectorization_title(title_in)\n",
    "# title_emb = embedding_title(title_vec)\n",
    "# title_do1 = Dropout(0.3)(title_emb)\n",
    "# title_gru = LSTM(2)(title_do1)\n",
    "# title_do2 = Dropout(0.3)(title_gru)\n",
    "\n",
    "# desc_in = Input(shape=(1,), dtype=\"string\", name='Desc-Input')\n",
    "# desc_vec = text_vectorization_desc(desc_in)\n",
    "# desc_emb = embedding_desc(desc_vec)\n",
    "# desc_do1 = Dropout(0.3)(desc_emb)\n",
    "# desc_gru = LSTM(2)(desc_do1)   # 2 neurons\n",
    "# desc_do2 = Dropout(0.3)(desc_gru)\n",
    "\n",
    "# prod = Dot(name='Dot-Product', axes=1)([title_do2, desc_do2])\n",
    "# hidden1 = Dense(16, activation='relu')(prod)\n",
    "# out = Dense(4, activation='softmax')(hidden1)\n",
    "\n",
    "# tuned_model = Model([title_in, desc_in], out)\n",
    "\n",
    "# tuned_model.compile(loss='categorical_crossentropy',\n",
    "#               optimizer='adam',\n",
    "#               metrics=['accuracy'])"
   ]
  },
  {
   "cell_type": "code",
   "execution_count": 62,
   "metadata": {},
   "outputs": [],
   "source": [
    "# tuned_model_hist = tuned_model.fit(x = [X_train.clean_title, X_train.clean_desc],\n",
    "#                          y = y_train_ohe,\n",
    "#                          epochs=10,\n",
    "#                          validation_data=([X_val.clean_title, X_val.clean_desc], y_val_ohe))"
   ]
  },
  {
   "cell_type": "code",
   "execution_count": 63,
   "metadata": {},
   "outputs": [],
   "source": [
    "# y_pred_t = tuned_model.predict([X_val.clean_title, X_val.clean_desc])\n",
    "# y_pred_t = y_pred_t.argmax(axis=1)\n",
    "# print('Tuned Model Accuracy: {}'.format(np.around(accuracy_score(y_val, y_pred_t), decimals=3)))"
   ]
  },
  {
   "cell_type": "markdown",
   "metadata": {},
   "source": [
    "The accuracy has not improved."
   ]
  },
  {
   "cell_type": "markdown",
   "metadata": {},
   "source": [
    "#### 3rd trial"
   ]
  },
  {
   "cell_type": "markdown",
   "metadata": {},
   "source": [
    "Increase the dropout rate to 0.5"
   ]
  },
  {
   "cell_type": "code",
   "execution_count": 64,
   "metadata": {},
   "outputs": [],
   "source": [
    "# # Third trial\n",
    "# title_in = Input(shape=(1,), dtype=\"string\", name='Title-Input')\n",
    "# title_vec = text_vectorization_title(title_in)\n",
    "# title_emb = embedding_title(title_vec)\n",
    "# title_do1 = Dropout(0.5)(title_emb)\n",
    "# title_gru = LSTM(4)(title_do1)\n",
    "# title_do2 = Dropout(0.5)(title_gru)\n",
    "\n",
    "# desc_in = Input(shape=(1,), dtype=\"string\", name='Desc-Input')\n",
    "# desc_vec = text_vectorization_desc(desc_in)\n",
    "# desc_emb = embedding_desc(desc_vec)\n",
    "# desc_do1 = Dropout(0.5)(desc_emb)\n",
    "# desc_gru = LSTM(4)(desc_do1)   \n",
    "# desc_do2 = Dropout(0.5)(desc_gru)\n",
    "\n",
    "# prod = Dot(name='Dot-Product', axes=1)([title_do2, desc_do2])\n",
    "# hidden1 = Dense(16, activation='relu')(prod)\n",
    "# out = Dense(4, activation='softmax')(hidden1)\n",
    "\n",
    "# tuned_model = Model([title_in, desc_in], out)\n",
    "\n",
    "# tuned_model.compile(loss='categorical_crossentropy',\n",
    "#               optimizer='adam',\n",
    "#               metrics=['accuracy'])"
   ]
  },
  {
   "cell_type": "code",
   "execution_count": 65,
   "metadata": {},
   "outputs": [],
   "source": [
    "# tuned_model_hist = tuned_model.fit(x = [X_train.clean_title, X_train.clean_desc],\n",
    "#                          y = y_train_ohe,\n",
    "#                          epochs=10,\n",
    "#                          validation_data=([X_val.clean_title, X_val.clean_desc], y_val_ohe))"
   ]
  },
  {
   "cell_type": "code",
   "execution_count": 66,
   "metadata": {},
   "outputs": [],
   "source": [
    "# y_pred_t = tuned_model.predict([X_val.clean_title, X_val.clean_desc])\n",
    "# y_pred_t = y_pred_t.argmax(axis=1)\n",
    "# print('Tuned Model Accuracy: {}'.format(np.around(accuracy_score(y_val, y_pred_t), decimals=3)))"
   ]
  },
  {
   "cell_type": "markdown",
   "metadata": {},
   "source": [
    "The accuracy has improved a tiny bit. So, we will implement 0.5 of dropout rate to the next trials."
   ]
  },
  {
   "cell_type": "markdown",
   "metadata": {},
   "source": [
    "#### 4th trial"
   ]
  },
  {
   "cell_type": "markdown",
   "metadata": {},
   "source": [
    "Reduce the number of neurons in Dense layer to 8."
   ]
  },
  {
   "cell_type": "code",
   "execution_count": 67,
   "metadata": {},
   "outputs": [],
   "source": [
    "# # Fourth trial\n",
    "# title_in = Input(shape=(1,), dtype=\"string\", name='Title-Input')\n",
    "# title_vec = text_vectorization_title(title_in)\n",
    "# title_emb = embedding_title(title_vec)\n",
    "# title_do1 = Dropout(0.5)(title_emb)\n",
    "# title_gru = LSTM(4)(title_do1)\n",
    "# title_do2 = Dropout(0.5)(title_gru)\n",
    "\n",
    "# desc_in = Input(shape=(1,), dtype=\"string\", name='Desc-Input')\n",
    "# desc_vec = text_vectorization_desc(desc_in)\n",
    "# desc_emb = embedding_desc(desc_vec)\n",
    "# desc_do1 = Dropout(0.5)(desc_emb)\n",
    "# desc_gru = LSTM(4)(desc_do1)   \n",
    "# desc_do2 = Dropout(0.5)(desc_gru)\n",
    "\n",
    "# prod = Dot(name='Dot-Product', axes=1)([title_do2, desc_do2])\n",
    "# hidden1 = Dense(8, activation='relu')(prod)\n",
    "# out = Dense(4, activation='softmax')(hidden1)\n",
    "\n",
    "# tuned_model = Model([title_in, desc_in], out)\n",
    "\n",
    "# tuned_model.compile(loss='categorical_crossentropy',\n",
    "#               optimizer='adam',\n",
    "#               metrics=['accuracy'])"
   ]
  },
  {
   "cell_type": "code",
   "execution_count": 68,
   "metadata": {},
   "outputs": [],
   "source": [
    "# tuned_model_hist = tuned_model.fit(x = [X_train.clean_title, X_train.clean_desc],\n",
    "#                          y = y_train_ohe,\n",
    "#                          epochs=10,\n",
    "#                          validation_data=([X_val.clean_title, X_val.clean_desc], y_val_ohe))"
   ]
  },
  {
   "cell_type": "code",
   "execution_count": 69,
   "metadata": {},
   "outputs": [],
   "source": [
    "# y_pred_t = tuned_model.predict([X_val.clean_title, X_val.clean_desc])\n",
    "# y_pred_t = y_pred_t.argmax(axis=1)\n",
    "# print('Tuned Model Accuracy: {}'.format(np.around(accuracy_score(y_val, y_pred_t), decimals=3)))"
   ]
  },
  {
   "cell_type": "markdown",
   "metadata": {},
   "source": [
    "The accuracy has not improved."
   ]
  },
  {
   "cell_type": "markdown",
   "metadata": {},
   "source": [
    "#### 5th trial"
   ]
  },
  {
   "cell_type": "markdown",
   "metadata": {},
   "source": [
    "Increase the number of neurons in Dense layer to 32."
   ]
  },
  {
   "cell_type": "code",
   "execution_count": 70,
   "metadata": {},
   "outputs": [],
   "source": [
    "# # Fifth trial\n",
    "# title_in = Input(shape=(1,), dtype=\"string\", name='Title-Input')\n",
    "# title_vec = text_vectorization_title(title_in)\n",
    "# title_emb = embedding_title(title_vec)\n",
    "# title_do1 = Dropout(0.5)(title_emb)\n",
    "# title_gru = LSTM(4)(title_do1)\n",
    "# title_do2 = Dropout(0.5)(title_gru)\n",
    "\n",
    "# desc_in = Input(shape=(1,), dtype=\"string\", name='Desc-Input')\n",
    "# desc_vec = text_vectorization_desc(desc_in)\n",
    "# desc_emb = embedding_desc(desc_vec)\n",
    "# desc_do1 = Dropout(0.5)(desc_emb)\n",
    "# desc_gru = LSTM(4)(desc_do1)   \n",
    "# desc_do2 = Dropout(0.5)(desc_gru)\n",
    "\n",
    "# prod = Dot(name='Dot-Product', axes=1)([title_do2, desc_do2])\n",
    "# hidden1 = Dense(32, activation='relu')(prod)\n",
    "# out = Dense(4, activation='softmax')(hidden1)\n",
    "\n",
    "# tuned_model = Model([title_in, desc_in], out)\n",
    "\n",
    "# tuned_model.compile(loss='categorical_crossentropy',\n",
    "#               optimizer='adam',\n",
    "#               metrics=['accuracy'])"
   ]
  },
  {
   "cell_type": "code",
   "execution_count": 71,
   "metadata": {},
   "outputs": [],
   "source": [
    "# tuned_model_hist = tuned_model.fit(x = [X_train.clean_title, X_train.clean_desc],\n",
    "#                          y = y_train_ohe,\n",
    "#                          epochs=10,\n",
    "#                          validation_data=([X_val.clean_title, X_val.clean_desc], y_val_ohe))"
   ]
  },
  {
   "cell_type": "code",
   "execution_count": 72,
   "metadata": {},
   "outputs": [],
   "source": [
    "# y_pred_t = tuned_model.predict([X_val.clean_title, X_val.clean_desc])\n",
    "# y_pred_t = y_pred_t.argmax(axis=1)\n",
    "# print('Tuned Model Accuracy: {}'.format(np.around(accuracy_score(y_val, y_pred_t), decimals=3)))"
   ]
  },
  {
   "cell_type": "markdown",
   "metadata": {},
   "source": [
    "The accuracy has not improved."
   ]
  },
  {
   "cell_type": "markdown",
   "metadata": {},
   "source": [
    "#### 6th trial"
   ]
  },
  {
   "cell_type": "markdown",
   "metadata": {},
   "source": [
    "Add an additional dense layer with 8 neurons."
   ]
  },
  {
   "cell_type": "code",
   "execution_count": 73,
   "metadata": {},
   "outputs": [],
   "source": [
    "# # Sixth trial\n",
    "# title_in = Input(shape=(1,), dtype=\"string\", name='Title-Input')\n",
    "# title_vec = text_vectorization_title(title_in)\n",
    "# title_emb = embedding_title(title_vec)\n",
    "# title_do1 = Dropout(0.5)(title_emb)\n",
    "# title_gru = LSTM(4)(title_do1)\n",
    "# title_do2 = Dropout(0.5)(title_gru)\n",
    "\n",
    "# desc_in = Input(shape=(1,), dtype=\"string\", name='Desc-Input')\n",
    "# desc_vec = text_vectorization_desc(desc_in)\n",
    "# desc_emb = embedding_desc(desc_vec)\n",
    "# desc_do1 = Dropout(0.5)(desc_emb)\n",
    "# desc_gru = LSTM(4)(desc_do1)   \n",
    "# desc_do2 = Dropout(0.5)(desc_gru)\n",
    "\n",
    "# prod = Dot(name='Dot-Product', axes=1)([title_do2, desc_do2])\n",
    "# hidden1 = Dense(16, activation='relu')(prod)\n",
    "# hidden2 = Dense(8, activation='relu')(hidden1)\n",
    "# out = Dense(4, activation='softmax')(hidden2)\n",
    "\n",
    "# tuned_model = Model([title_in, desc_in], out)\n",
    "\n",
    "# tuned_model.compile(loss='categorical_crossentropy',\n",
    "#               optimizer='adam',\n",
    "#               metrics=['accuracy'])"
   ]
  },
  {
   "cell_type": "code",
   "execution_count": 74,
   "metadata": {},
   "outputs": [],
   "source": [
    "# tuned_model_hist = tuned_model.fit(x = [X_train.clean_title, X_train.clean_desc],\n",
    "#                          y = y_train_ohe,\n",
    "#                          epochs=10,\n",
    "#                          validation_data=([X_val.clean_title, X_val.clean_desc], y_val_ohe))"
   ]
  },
  {
   "cell_type": "code",
   "execution_count": 75,
   "metadata": {},
   "outputs": [],
   "source": [
    "# y_pred_t = tuned_model.predict([X_val.clean_title, X_val.clean_desc])\n",
    "# y_pred_t = y_pred_t.argmax(axis=1)\n",
    "# print('Tuned Model Accuracy: {}'.format(np.around(accuracy_score(y_val, y_pred_t), decimals=3)))"
   ]
  },
  {
   "cell_type": "markdown",
   "metadata": {},
   "source": [
    "The accuracy has not improved."
   ]
  },
  {
   "cell_type": "markdown",
   "metadata": {},
   "source": [
    "#### 7th trial"
   ]
  },
  {
   "cell_type": "markdown",
   "metadata": {},
   "source": [
    "Increase the number of epochs to 20."
   ]
  },
  {
   "cell_type": "code",
   "execution_count": 76,
   "metadata": {},
   "outputs": [],
   "source": [
    "# Seventh trial\n",
    "# title_in = Input(shape=(1,), dtype=\"string\", name='Title-Input')\n",
    "# title_vec = text_vectorization_title(title_in)\n",
    "# title_emb = embedding_title(title_vec)\n",
    "# title_do1 = Dropout(0.5)(title_emb)\n",
    "# title_gru = LSTM(4)(title_do1)\n",
    "# title_do2 = Dropout(0.5)(title_gru)\n",
    "\n",
    "# desc_in = Input(shape=(1,), dtype=\"string\", name='Desc-Input')\n",
    "# desc_vec = text_vectorization_desc(desc_in)\n",
    "# desc_emb = embedding_desc(desc_vec)\n",
    "# desc_do1 = Dropout(0.5)(desc_emb)\n",
    "# desc_gru = LSTM(4)(desc_do1)   \n",
    "# desc_do2 = Dropout(0.5)(desc_gru)\n",
    "\n",
    "# prod = Dot(name='Dot-Product', axes=1)([title_do2, desc_do2])\n",
    "# hidden1 = Dense(16, activation='relu')(prod)\n",
    "# out = Dense(4, activation='softmax')(hidden1)\n",
    "\n",
    "# tuned_model = Model([title_in, desc_in], out)\n",
    "\n",
    "# tuned_model.compile(loss='categorical_crossentropy',\n",
    "#               optimizer='adam',\n",
    "#               metrics=['accuracy'])"
   ]
  },
  {
   "cell_type": "code",
   "execution_count": 77,
   "metadata": {},
   "outputs": [],
   "source": [
    "# tuned_model_hist = tuned_model.fit(x = [X_train.clean_title, X_train.clean_desc],\n",
    "#                          y = y_train_ohe,\n",
    "#                          epochs=20,\n",
    "#                          validation_data=([X_val.clean_title, X_val.clean_desc], y_val_ohe))"
   ]
  },
  {
   "cell_type": "code",
   "execution_count": 78,
   "metadata": {},
   "outputs": [],
   "source": [
    "# y_pred_t = tuned_model.predict([X_val.clean_title, X_val.clean_desc])\n",
    "# y_pred_t = y_pred_t.argmax(axis=1)\n",
    "# print('Tuned Model Accuracy: {}'.format(np.around(accuracy_score(y_val, y_pred_t), decimals=3)))"
   ]
  },
  {
   "cell_type": "markdown",
   "metadata": {},
   "source": [
    "The accuracy has not improved."
   ]
  },
  {
   "cell_type": "markdown",
   "metadata": {},
   "source": [
    "#### 8th trial"
   ]
  },
  {
   "cell_type": "markdown",
   "metadata": {},
   "source": [
    "Change the optimizer to adamax."
   ]
  },
  {
   "cell_type": "code",
   "execution_count": 79,
   "metadata": {},
   "outputs": [],
   "source": [
    "# title_in = Input(shape=(1,), dtype=\"string\", name='Title-Input')\n",
    "# title_vec = text_vectorization_title(title_in)\n",
    "# title_emb = embedding_title(title_vec)\n",
    "# title_do1 = Dropout(0.5)(title_emb)\n",
    "# title_gru = LSTM(4)(title_do1)\n",
    "# title_do2 = Dropout(0.5)(title_gru)\n",
    "\n",
    "# desc_in = Input(shape=(1,), dtype=\"string\", name='Desc-Input')\n",
    "# desc_vec = text_vectorization_desc(desc_in)\n",
    "# desc_emb = embedding_desc(desc_vec)\n",
    "# desc_do1 = Dropout(0.5)(desc_emb)\n",
    "# desc_gru = LSTM(4)(desc_do1)   \n",
    "# desc_do2 = Dropout(0.5)(desc_gru)\n",
    "\n",
    "# prod = Dot(name='Dot-Product', axes=1)([title_do2, desc_do2])\n",
    "# hidden1 = Dense(16, activation='relu')(prod)\n",
    "# out = Dense(4, activation='softmax')(hidden1)\n",
    "\n",
    "# tuned_model = Model([title_in, desc_in], out)\n",
    "\n",
    "# tuned_model.compile(loss='categorical_crossentropy',\n",
    "#               optimizer='adamax',\n",
    "#               metrics=['accuracy'])"
   ]
  },
  {
   "cell_type": "code",
   "execution_count": 80,
   "metadata": {},
   "outputs": [],
   "source": [
    "# tuned_model_hist = tuned_model.fit(x = [X_train.clean_title, X_train.clean_desc],\n",
    "#                          y = y_train_ohe,\n",
    "#                          epochs=10,\n",
    "#                          validation_data=([X_val.clean_title, X_val.clean_desc], y_val_ohe))"
   ]
  },
  {
   "cell_type": "code",
   "execution_count": 81,
   "metadata": {},
   "outputs": [],
   "source": [
    "# y_pred_t = tuned_model.predict([X_val.clean_title, X_val.clean_desc])\n",
    "# y_pred_t = y_pred_t.argmax(axis=1)\n",
    "# print('Tuned Model Accuracy: {}'.format(np.around(accuracy_score(y_val, y_pred_t), decimals=3)))"
   ]
  },
  {
   "cell_type": "markdown",
   "metadata": {},
   "source": [
    "The accuracy has not improved."
   ]
  },
  {
   "cell_type": "markdown",
   "metadata": {},
   "source": [
    "#### 9th trial "
   ]
  },
  {
   "cell_type": "markdown",
   "metadata": {},
   "source": [
    "Change the optimizer to adagrad."
   ]
  },
  {
   "cell_type": "code",
   "execution_count": 82,
   "metadata": {},
   "outputs": [],
   "source": [
    "# title_in = Input(shape=(1,), dtype=\"string\", name='Title-Input')\n",
    "# title_vec = text_vectorization_title(title_in)\n",
    "# title_emb = embedding_title(title_vec)\n",
    "# title_do1 = Dropout(0.5)(title_emb)\n",
    "# title_gru = LSTM(4)(title_do1)\n",
    "# title_do2 = Dropout(0.5)(title_gru)\n",
    "\n",
    "# desc_in = Input(shape=(1,), dtype=\"string\", name='Desc-Input')\n",
    "# desc_vec = text_vectorization_desc(desc_in)\n",
    "# desc_emb = embedding_desc(desc_vec)\n",
    "# desc_do1 = Dropout(0.5)(desc_emb)\n",
    "# desc_gru = LSTM(4)(desc_do1)   \n",
    "# desc_do2 = Dropout(0.5)(desc_gru)\n",
    "\n",
    "# prod = Dot(name='Dot-Product', axes=1)([title_do2, desc_do2])\n",
    "# hidden1 = Dense(16, activation='relu')(prod)\n",
    "# out = Dense(4, activation='softmax')(hidden1)\n",
    "\n",
    "# tuned_model = Model([title_in, desc_in], out)\n",
    "\n",
    "# tuned_model.compile(loss='categorical_crossentropy',\n",
    "#               optimizer='adagrad',\n",
    "#               metrics=['accuracy'])"
   ]
  },
  {
   "cell_type": "code",
   "execution_count": 83,
   "metadata": {},
   "outputs": [],
   "source": [
    "# tuned_model_hist = tuned_model.fit(x = [X_train.clean_title, X_train.clean_desc],\n",
    "#                          y = y_train_ohe,\n",
    "#                          epochs=10,\n",
    "#                          validation_data=([X_val.clean_title, X_val.clean_desc], y_val_ohe))"
   ]
  },
  {
   "cell_type": "code",
   "execution_count": 84,
   "metadata": {},
   "outputs": [],
   "source": [
    "# y_pred_t = tuned_model.predict([X_val.clean_title, X_val.clean_desc])\n",
    "# y_pred_t = y_pred_t.argmax(axis=1)\n",
    "# print('Tuned Model Accuracy: {}'.format(np.around(accuracy_score(y_val, y_pred_t), decimals=3)))"
   ]
  },
  {
   "cell_type": "markdown",
   "metadata": {},
   "source": [
    "The accuracy has not improved."
   ]
  },
  {
   "cell_type": "markdown",
   "metadata": {},
   "source": [
    "#### 10th trial"
   ]
  },
  {
   "cell_type": "markdown",
   "metadata": {},
   "source": [
    "Change the optimizer to nadam."
   ]
  },
  {
   "cell_type": "code",
   "execution_count": 85,
   "metadata": {},
   "outputs": [],
   "source": [
    "# title_in = Input(shape=(1,), dtype=\"string\", name='Title-Input')\n",
    "# title_vec = text_vectorization_title(title_in)\n",
    "# title_emb = embedding_title(title_vec)\n",
    "# title_do1 = Dropout(0.5)(title_emb)\n",
    "# title_gru = LSTM(4)(title_do1)\n",
    "# title_do2 = Dropout(0.5)(title_gru)\n",
    "\n",
    "# desc_in = Input(shape=(1,), dtype=\"string\", name='Desc-Input')\n",
    "# desc_vec = text_vectorization_desc(desc_in)\n",
    "# desc_emb = embedding_desc(desc_vec)\n",
    "# desc_do1 = Dropout(0.5)(desc_emb)\n",
    "# desc_gru = LSTM(4)(desc_do1)   \n",
    "# desc_do2 = Dropout(0.5)(desc_gru)\n",
    "\n",
    "# prod = Dot(name='Dot-Product', axes=1)([title_do2, desc_do2])\n",
    "# hidden1 = Dense(16, activation='relu')(prod)\n",
    "# out = Dense(4, activation='softmax')(hidden1)\n",
    "\n",
    "# tuned_model = Model([title_in, desc_in], out)\n",
    "\n",
    "# tuned_model.compile(loss='categorical_crossentropy',\n",
    "#               optimizer='nadam',\n",
    "#               metrics=['accuracy'])"
   ]
  },
  {
   "cell_type": "code",
   "execution_count": 86,
   "metadata": {},
   "outputs": [],
   "source": [
    "# tuned_model_hist = tuned_model.fit(x = [X_train.clean_title, X_train.clean_desc],\n",
    "#                          y = y_train_ohe,\n",
    "#                          epochs=10,\n",
    "#                          validation_data=([X_val.clean_title, X_val.clean_desc], y_val_ohe))"
   ]
  },
  {
   "cell_type": "code",
   "execution_count": 87,
   "metadata": {},
   "outputs": [],
   "source": [
    "# y_pred_t = tuned_model.predict([X_val.clean_title, X_val.clean_desc])\n",
    "# y_pred_t = y_pred_t.argmax(axis=1)\n",
    "# print('Tuned Model Accuracy: {}'.format(np.around(accuracy_score(y_val, y_pred_t), decimals=3)))"
   ]
  },
  {
   "cell_type": "markdown",
   "metadata": {},
   "source": [
    "The accuracy has improved a little bit."
   ]
  },
  {
   "cell_type": "markdown",
   "metadata": {},
   "source": [
    "#### 11th trial"
   ]
  },
  {
   "cell_type": "markdown",
   "metadata": {},
   "source": [
    "Change the optimizer to sgd."
   ]
  },
  {
   "cell_type": "code",
   "execution_count": 88,
   "metadata": {},
   "outputs": [],
   "source": [
    "# title_in = Input(shape=(1,), dtype=\"string\", name='Title-Input')\n",
    "# title_vec = text_vectorization_title(title_in)\n",
    "# title_emb = embedding_title(title_vec)\n",
    "# title_do1 = Dropout(0.5)(title_emb)\n",
    "# title_gru = LSTM(4)(title_do1)\n",
    "# title_do2 = Dropout(0.5)(title_gru)\n",
    "\n",
    "# desc_in = Input(shape=(1,), dtype=\"string\", name='Desc-Input')\n",
    "# desc_vec = text_vectorization_desc(desc_in)\n",
    "# desc_emb = embedding_desc(desc_vec)\n",
    "# desc_do1 = Dropout(0.5)(desc_emb)\n",
    "# desc_gru = LSTM(4)(desc_do1)   \n",
    "# desc_do2 = Dropout(0.5)(desc_gru)\n",
    "\n",
    "# prod = Dot(name='Dot-Product', axes=1)([title_do2, desc_do2])\n",
    "# hidden1 = Dense(16, activation='relu')(prod)\n",
    "# out = Dense(4, activation='softmax')(hidden1)\n",
    "\n",
    "# tuned_model = Model([title_in, desc_in], out)\n",
    "\n",
    "# tuned_model.compile(loss='categorical_crossentropy',\n",
    "#               optimizer='sgd',\n",
    "#               metrics=['accuracy'])"
   ]
  },
  {
   "cell_type": "code",
   "execution_count": 89,
   "metadata": {},
   "outputs": [],
   "source": [
    "# tuned_model_hist = tuned_model.fit(x = [X_train.clean_title, X_train.clean_desc],\n",
    "#                          y = y_train_ohe,\n",
    "#                          epochs=10,\n",
    "#                          validation_data=([X_val.clean_title, X_val.clean_desc], y_val_ohe))"
   ]
  },
  {
   "cell_type": "code",
   "execution_count": 90,
   "metadata": {},
   "outputs": [],
   "source": [
    "# y_pred_t = tuned_model.predict([X_val.clean_title, X_val.clean_desc])\n",
    "# y_pred_t = y_pred_t.argmax(axis=1)\n",
    "# print('Tuned Model Accuracy: {}'.format(np.around(accuracy_score(y_val, y_pred_t), decimals=3)))"
   ]
  },
  {
   "cell_type": "markdown",
   "metadata": {},
   "source": [
    "The accuracy has not improved."
   ]
  },
  {
   "cell_type": "markdown",
   "metadata": {},
   "source": [
    "#### 12th trial"
   ]
  },
  {
   "cell_type": "markdown",
   "metadata": {},
   "source": [
    "Change the optimizer to rmsprop."
   ]
  },
  {
   "cell_type": "code",
   "execution_count": 91,
   "metadata": {},
   "outputs": [],
   "source": [
    "# title_in = Input(shape=(1,), dtype=\"string\", name='Title-Input')\n",
    "# title_vec = text_vectorization_title(title_in)\n",
    "# title_emb = embedding_title(title_vec)\n",
    "# title_do1 = Dropout(0.5)(title_emb)\n",
    "# title_gru = LSTM(4)(title_do1)\n",
    "# title_do2 = Dropout(0.5)(title_gru)\n",
    "\n",
    "# desc_in = Input(shape=(1,), dtype=\"string\", name='Desc-Input')\n",
    "# desc_vec = text_vectorization_desc(desc_in)\n",
    "# desc_emb = embedding_desc(desc_vec)\n",
    "# desc_do1 = Dropout(0.5)(desc_emb)\n",
    "# desc_gru = LSTM(4)(desc_do1)   \n",
    "# desc_do2 = Dropout(0.5)(desc_gru)\n",
    "\n",
    "# prod = Dot(name='Dot-Product', axes=1)([title_do2, desc_do2])\n",
    "# hidden1 = Dense(16, activation='relu')(prod)\n",
    "# out = Dense(4, activation='softmax')(hidden1)\n",
    "\n",
    "# tuned_model = Model([title_in, desc_in], out)\n",
    "\n",
    "# tuned_model.compile(loss='categorical_crossentropy',\n",
    "#               optimizer='rmsprop',\n",
    "#               metrics=['accuracy'])"
   ]
  },
  {
   "cell_type": "code",
   "execution_count": 92,
   "metadata": {},
   "outputs": [],
   "source": [
    "# tuned_model_hist = tuned_model.fit(x = [X_train.clean_title, X_train.clean_desc],\n",
    "#                          y = y_train_ohe,\n",
    "#                          epochs=10,\n",
    "#                          validation_data=([X_val.clean_title, X_val.clean_desc], y_val_ohe))"
   ]
  },
  {
   "cell_type": "code",
   "execution_count": 93,
   "metadata": {},
   "outputs": [],
   "source": [
    "# y_pred_t = tuned_model.predict([X_val.clean_title, X_val.clean_desc])\n",
    "# y_pred_t = y_pred_t.argmax(axis=1)\n",
    "# print('Tuned Model Accuracy: {}'.format(np.around(accuracy_score(y_val, y_pred_t), decimals=3)))"
   ]
  },
  {
   "cell_type": "markdown",
   "metadata": {},
   "source": [
    "The accuracy has not improved."
   ]
  },
  {
   "cell_type": "markdown",
   "metadata": {},
   "source": [
    "#### Result"
   ]
  },
  {
   "cell_type": "markdown",
   "metadata": {},
   "source": [
    "So far, the best performing model is the one with 0.5 of dropout percentage and using nadam optimizer. \n",
    "\n",
    "We will run it one more time with more epochs and a callback."
   ]
  },
  {
   "cell_type": "code",
   "execution_count": 94,
   "metadata": {},
   "outputs": [],
   "source": [
    "title_in = Input(shape=(1,), dtype=\"string\", name='Title-Input')\n",
    "title_vec = text_vectorization_title(title_in)\n",
    "title_emb = embedding_title(title_vec)\n",
    "title_do1 = Dropout(0.5)(title_emb)\n",
    "title_gru = LSTM(4)(title_do1)\n",
    "title_do2 = Dropout(0.5)(title_gru)\n",
    "\n",
    "desc_in = Input(shape=(1,), dtype=\"string\", name='Desc-Input')\n",
    "desc_vec = text_vectorization_desc(desc_in)\n",
    "desc_emb = embedding_desc(desc_vec)\n",
    "desc_do1 = Dropout(0.5)(desc_emb)\n",
    "desc_gru = LSTM(4)(desc_do1)   \n",
    "desc_do2 = Dropout(0.5)(desc_gru)\n",
    "\n",
    "prod = Dot(name='Dot-Product', axes=1)([title_do2, desc_do2])\n",
    "hidden1 = Dense(16, activation='relu')(prod)\n",
    "out = Dense(4, activation='softmax')(hidden1)\n",
    "\n",
    "tuned_model = Model([title_in, desc_in], out)\n",
    "\n",
    "tuned_model.compile(loss='categorical_crossentropy',\n",
    "              optimizer='nadam',\n",
    "              metrics=['accuracy'])"
   ]
  },
  {
   "cell_type": "code",
   "execution_count": 95,
   "metadata": {},
   "outputs": [],
   "source": [
    "# setting number of epoch and callback for early stopping\n",
    "num_epoch = 30\n",
    "stop_early = tf.keras.callbacks.EarlyStopping(monitor='val_loss', patience=5)  # early stopping set after 5 epochs"
   ]
  },
  {
   "cell_type": "code",
   "execution_count": 96,
   "metadata": {},
   "outputs": [
    {
     "name": "stdout",
     "output_type": "stream",
     "text": [
      "Epoch 1/30\n",
      "3375/3375 [==============================] - 73s 21ms/step - loss: 0.9648 - accuracy: 0.5680 - val_loss: 0.5899 - val_accuracy: 0.8154\n",
      "Epoch 2/30\n",
      "3375/3375 [==============================] - 69s 21ms/step - loss: 0.8578 - accuracy: 0.6277 - val_loss: 0.5512 - val_accuracy: 0.8232\n",
      "Epoch 3/30\n",
      "3375/3375 [==============================] - 69s 20ms/step - loss: 0.8358 - accuracy: 0.6382 - val_loss: 0.5292 - val_accuracy: 0.8242\n",
      "Epoch 4/30\n",
      "3375/3375 [==============================] - 69s 20ms/step - loss: 0.8236 - accuracy: 0.6445 - val_loss: 0.5170 - val_accuracy: 0.8312\n",
      "Epoch 5/30\n",
      "3375/3375 [==============================] - 70s 21ms/step - loss: 0.8120 - accuracy: 0.6497 - val_loss: 0.4901 - val_accuracy: 0.8397\n",
      "Epoch 6/30\n",
      "3375/3375 [==============================] - 69s 21ms/step - loss: 0.8100 - accuracy: 0.6517 - val_loss: 0.5013 - val_accuracy: 0.8377\n",
      "Epoch 7/30\n",
      "3375/3375 [==============================] - 69s 21ms/step - loss: 0.7937 - accuracy: 0.6597 - val_loss: 0.4757 - val_accuracy: 0.8461\n",
      "Epoch 8/30\n",
      "3375/3375 [==============================] - 69s 21ms/step - loss: 0.7976 - accuracy: 0.6563 - val_loss: 0.4913 - val_accuracy: 0.8415\n",
      "Epoch 9/30\n",
      "3375/3375 [==============================] - 70s 21ms/step - loss: 0.7906 - accuracy: 0.6613 - val_loss: 0.4517 - val_accuracy: 0.8622\n",
      "Epoch 10/30\n",
      "3375/3375 [==============================] - 70s 21ms/step - loss: 0.7833 - accuracy: 0.6633 - val_loss: 0.4586 - val_accuracy: 0.8517\n",
      "Epoch 11/30\n",
      "3375/3375 [==============================] - 70s 21ms/step - loss: 0.7824 - accuracy: 0.6635 - val_loss: 0.4447 - val_accuracy: 0.8598\n",
      "Epoch 12/30\n",
      "3375/3375 [==============================] - 70s 21ms/step - loss: 0.7835 - accuracy: 0.6641 - val_loss: 0.4462 - val_accuracy: 0.8608\n",
      "Epoch 13/30\n",
      "3375/3375 [==============================] - 71s 21ms/step - loss: 0.7822 - accuracy: 0.6639 - val_loss: 0.4746 - val_accuracy: 0.8448\n",
      "Epoch 14/30\n",
      "3375/3375 [==============================] - 71s 21ms/step - loss: 0.7842 - accuracy: 0.6632 - val_loss: 0.4551 - val_accuracy: 0.8532\n",
      "Epoch 15/30\n",
      "3375/3375 [==============================] - 70s 21ms/step - loss: 0.7768 - accuracy: 0.6655 - val_loss: 0.4477 - val_accuracy: 0.8602\n",
      "Epoch 16/30\n",
      "3375/3375 [==============================] - 70s 21ms/step - loss: 0.7769 - accuracy: 0.6661 - val_loss: 0.4837 - val_accuracy: 0.8459\n"
     ]
    }
   ],
   "source": [
    "tuned_model_hist = tuned_model.fit(x = [X_train.clean_title, X_train.clean_desc],\n",
    "                         y = y_train_ohe,\n",
    "                         epochs=num_epoch,\n",
    "                         validation_data=([X_val.clean_title, X_val.clean_desc], y_val_ohe), callbacks=[stop_early])"
   ]
  },
  {
   "cell_type": "code",
   "execution_count": 97,
   "metadata": {},
   "outputs": [
    {
     "name": "stdout",
     "output_type": "stream",
     "text": [
      "375/375 [==============================] - 3s 5ms/step\n",
      "Tuned Model Accuracy: 0.846\n",
      "Model 3 Accuracy: 0.858\n"
     ]
    }
   ],
   "source": [
    "y_pred_t = tuned_model.predict([X_val.clean_title, X_val.clean_desc])\n",
    "y_pred_t = y_pred_t.argmax(axis=1)\n",
    "print('Tuned Model Accuracy: {}'.format(np.around(accuracy_score(y_val, y_pred_t), decimals=3)))\n",
    "print('Model 3 Accuracy: {}'.format(np.around(accuracy_score(y_val, y_pred_3), decimals=3)))"
   ]
  },
  {
   "cell_type": "markdown",
   "metadata": {},
   "source": [
    "As we can see above, the tuned model has improved accuracy by a significant amount. From 85.2% to 86.3% of accuracy."
   ]
  },
  {
   "cell_type": "markdown",
   "metadata": {},
   "source": [
    "---\n",
    "# 9 - Model Saving"
   ]
  },
  {
   "cell_type": "code",
   "execution_count": 98,
   "metadata": {},
   "outputs": [],
   "source": [
    "# model_version = \"0001\"\n",
    "# model_name = \"nlp_news_model\"\n",
    "# model_path = os.path.join(model_name, model_version)\n",
    "# model_path"
   ]
  },
  {
   "cell_type": "code",
   "execution_count": 99,
   "metadata": {},
   "outputs": [],
   "source": [
    "# tf.saved_model.save(tuned_model, model_path)"
   ]
  },
  {
   "cell_type": "code",
   "execution_count": 100,
   "metadata": {},
   "outputs": [
    {
     "name": "stderr",
     "output_type": "stream",
     "text": [
      "WARNING:absl:Function `_wrapped_model` contains input name(s) Title-Input, Desc-Input with unsupported characters which will be renamed to title_input, desc_input in the SavedModel.\n",
      "WARNING:absl:Found untraced functions such as lstm_cell_2_layer_call_fn, lstm_cell_2_layer_call_and_return_conditional_losses, lstm_cell_3_layer_call_fn, lstm_cell_3_layer_call_and_return_conditional_losses while saving (showing 4 of 4). These functions will not be directly callable after loading.\n"
     ]
    },
    {
     "name": "stdout",
     "output_type": "stream",
     "text": [
      "INFO:tensorflow:Assets written to: tuned_model\\assets\n"
     ]
    },
    {
     "name": "stderr",
     "output_type": "stream",
     "text": [
      "INFO:tensorflow:Assets written to: tuned_model\\assets\n"
     ]
    }
   ],
   "source": [
    "tuned_model.save('tuned_model')"
   ]
  },
  {
   "cell_type": "markdown",
   "metadata": {},
   "source": [
    "---\n",
    "# 10 - Model Inference"
   ]
  },
  {
   "cell_type": "code",
   "execution_count": 122,
   "metadata": {},
   "outputs": [
    {
     "data": {
      "text/html": [
       "<div>\n",
       "<style scoped>\n",
       "    .dataframe tbody tr th:only-of-type {\n",
       "        vertical-align: middle;\n",
       "    }\n",
       "\n",
       "    .dataframe tbody tr th {\n",
       "        vertical-align: top;\n",
       "    }\n",
       "\n",
       "    .dataframe thead th {\n",
       "        text-align: right;\n",
       "    }\n",
       "</style>\n",
       "<table border=\"1\" class=\"dataframe\">\n",
       "  <thead>\n",
       "    <tr style=\"text-align: right;\">\n",
       "      <th></th>\n",
       "      <th>clean_title</th>\n",
       "      <th>clean_desc</th>\n",
       "    </tr>\n",
       "  </thead>\n",
       "  <tbody>\n",
       "    <tr>\n",
       "      <th>0</th>\n",
       "      <td>fear n pension talk</td>\n",
       "      <td>union represent worker turner newall say disap...</td>\n",
       "    </tr>\n",
       "    <tr>\n",
       "      <th>1</th>\n",
       "      <td>race second private team set launch date human...</td>\n",
       "      <td>space com toronto canada second team rocketeer...</td>\n",
       "    </tr>\n",
       "    <tr>\n",
       "      <th>2</th>\n",
       "      <td>ky company win grant study peptide ap</td>\n",
       "      <td>ap company found chemistry researcher universi...</td>\n",
       "    </tr>\n",
       "    <tr>\n",
       "      <th>3</th>\n",
       "      <td>prediction unit help forecast wildfire ap</td>\n",
       "      <td>ap barely dawn mike fitzpatrick start shift bl...</td>\n",
       "    </tr>\n",
       "    <tr>\n",
       "      <th>4</th>\n",
       "      <td>calif aim limit farm relate smog ap</td>\n",
       "      <td>ap southern california smog fight agency go em...</td>\n",
       "    </tr>\n",
       "  </tbody>\n",
       "</table>\n",
       "</div>"
      ],
      "text/plain": [
       "                                         clean_title  \\\n",
       "0                                fear n pension talk   \n",
       "1  race second private team set launch date human...   \n",
       "2              ky company win grant study peptide ap   \n",
       "3          prediction unit help forecast wildfire ap   \n",
       "4                calif aim limit farm relate smog ap   \n",
       "\n",
       "                                          clean_desc  \n",
       "0  union represent worker turner newall say disap...  \n",
       "1  space com toronto canada second team rocketeer...  \n",
       "2  ap company found chemistry researcher universi...  \n",
       "3  ap barely dawn mike fitzpatrick start shift bl...  \n",
       "4  ap southern california smog fight agency go em...  "
      ]
     },
     "execution_count": 122,
     "metadata": {},
     "output_type": "execute_result"
    }
   ],
   "source": [
    "X_test.head()"
   ]
  },
  {
   "cell_type": "code",
   "execution_count": 127,
   "metadata": {},
   "outputs": [
    {
     "name": "stdout",
     "output_type": "stream",
     "text": [
      "238/238 [==============================] - 2s 8ms/step\n"
     ]
    }
   ],
   "source": [
    "y_pred_inf = tuned_model.predict([X_test.clean_title, X_test.clean_desc])\n",
    "y_pred_inf = y_pred_inf.argmax(axis=1)"
   ]
  },
  {
   "cell_type": "code",
   "execution_count": 128,
   "metadata": {},
   "outputs": [],
   "source": [
    "y_pred_inf_df = pd.DataFrame(y_pred_inf, columns=['label-pred'])"
   ]
  },
  {
   "cell_type": "code",
   "execution_count": 129,
   "metadata": {},
   "outputs": [
    {
     "name": "stdout",
     "output_type": "stream",
     "text": [
      "Model prediction to new data\n"
     ]
    },
    {
     "data": {
      "text/html": [
       "<div>\n",
       "<style scoped>\n",
       "    .dataframe tbody tr th:only-of-type {\n",
       "        vertical-align: middle;\n",
       "    }\n",
       "\n",
       "    .dataframe tbody tr th {\n",
       "        vertical-align: top;\n",
       "    }\n",
       "\n",
       "    .dataframe thead th {\n",
       "        text-align: right;\n",
       "    }\n",
       "</style>\n",
       "<table border=\"1\" class=\"dataframe\">\n",
       "  <thead>\n",
       "    <tr style=\"text-align: right;\">\n",
       "      <th></th>\n",
       "      <th>label</th>\n",
       "      <th>label-pred</th>\n",
       "    </tr>\n",
       "  </thead>\n",
       "  <tbody>\n",
       "    <tr>\n",
       "      <th>0</th>\n",
       "      <td>2</td>\n",
       "      <td>2</td>\n",
       "    </tr>\n",
       "    <tr>\n",
       "      <th>1</th>\n",
       "      <td>3</td>\n",
       "      <td>0</td>\n",
       "    </tr>\n",
       "    <tr>\n",
       "      <th>2</th>\n",
       "      <td>3</td>\n",
       "      <td>3</td>\n",
       "    </tr>\n",
       "    <tr>\n",
       "      <th>3</th>\n",
       "      <td>3</td>\n",
       "      <td>3</td>\n",
       "    </tr>\n",
       "    <tr>\n",
       "      <th>4</th>\n",
       "      <td>3</td>\n",
       "      <td>3</td>\n",
       "    </tr>\n",
       "    <tr>\n",
       "      <th>5</th>\n",
       "      <td>3</td>\n",
       "      <td>2</td>\n",
       "    </tr>\n",
       "    <tr>\n",
       "      <th>6</th>\n",
       "      <td>3</td>\n",
       "      <td>0</td>\n",
       "    </tr>\n",
       "    <tr>\n",
       "      <th>7</th>\n",
       "      <td>3</td>\n",
       "      <td>0</td>\n",
       "    </tr>\n",
       "    <tr>\n",
       "      <th>8</th>\n",
       "      <td>3</td>\n",
       "      <td>3</td>\n",
       "    </tr>\n",
       "    <tr>\n",
       "      <th>9</th>\n",
       "      <td>3</td>\n",
       "      <td>2</td>\n",
       "    </tr>\n",
       "    <tr>\n",
       "      <th>10</th>\n",
       "      <td>3</td>\n",
       "      <td>3</td>\n",
       "    </tr>\n",
       "    <tr>\n",
       "      <th>11</th>\n",
       "      <td>3</td>\n",
       "      <td>3</td>\n",
       "    </tr>\n",
       "    <tr>\n",
       "      <th>12</th>\n",
       "      <td>3</td>\n",
       "      <td>3</td>\n",
       "    </tr>\n",
       "    <tr>\n",
       "      <th>13</th>\n",
       "      <td>3</td>\n",
       "      <td>0</td>\n",
       "    </tr>\n",
       "    <tr>\n",
       "      <th>14</th>\n",
       "      <td>3</td>\n",
       "      <td>0</td>\n",
       "    </tr>\n",
       "    <tr>\n",
       "      <th>15</th>\n",
       "      <td>3</td>\n",
       "      <td>2</td>\n",
       "    </tr>\n",
       "    <tr>\n",
       "      <th>16</th>\n",
       "      <td>3</td>\n",
       "      <td>3</td>\n",
       "    </tr>\n",
       "    <tr>\n",
       "      <th>17</th>\n",
       "      <td>3</td>\n",
       "      <td>3</td>\n",
       "    </tr>\n",
       "    <tr>\n",
       "      <th>18</th>\n",
       "      <td>3</td>\n",
       "      <td>2</td>\n",
       "    </tr>\n",
       "    <tr>\n",
       "      <th>19</th>\n",
       "      <td>3</td>\n",
       "      <td>2</td>\n",
       "    </tr>\n",
       "    <tr>\n",
       "      <th>20</th>\n",
       "      <td>3</td>\n",
       "      <td>2</td>\n",
       "    </tr>\n",
       "    <tr>\n",
       "      <th>21</th>\n",
       "      <td>3</td>\n",
       "      <td>0</td>\n",
       "    </tr>\n",
       "    <tr>\n",
       "      <th>22</th>\n",
       "      <td>3</td>\n",
       "      <td>3</td>\n",
       "    </tr>\n",
       "    <tr>\n",
       "      <th>23</th>\n",
       "      <td>3</td>\n",
       "      <td>2</td>\n",
       "    </tr>\n",
       "    <tr>\n",
       "      <th>24</th>\n",
       "      <td>3</td>\n",
       "      <td>0</td>\n",
       "    </tr>\n",
       "    <tr>\n",
       "      <th>25</th>\n",
       "      <td>3</td>\n",
       "      <td>3</td>\n",
       "    </tr>\n",
       "    <tr>\n",
       "      <th>26</th>\n",
       "      <td>1</td>\n",
       "      <td>1</td>\n",
       "    </tr>\n",
       "    <tr>\n",
       "      <th>27</th>\n",
       "      <td>1</td>\n",
       "      <td>1</td>\n",
       "    </tr>\n",
       "    <tr>\n",
       "      <th>28</th>\n",
       "      <td>1</td>\n",
       "      <td>1</td>\n",
       "    </tr>\n",
       "    <tr>\n",
       "      <th>29</th>\n",
       "      <td>1</td>\n",
       "      <td>1</td>\n",
       "    </tr>\n",
       "  </tbody>\n",
       "</table>\n",
       "</div>"
      ],
      "text/plain": [
       "    label  label-pred\n",
       "0       2           2\n",
       "1       3           0\n",
       "2       3           3\n",
       "3       3           3\n",
       "4       3           3\n",
       "5       3           2\n",
       "6       3           0\n",
       "7       3           0\n",
       "8       3           3\n",
       "9       3           2\n",
       "10      3           3\n",
       "11      3           3\n",
       "12      3           3\n",
       "13      3           0\n",
       "14      3           0\n",
       "15      3           2\n",
       "16      3           3\n",
       "17      3           3\n",
       "18      3           2\n",
       "19      3           2\n",
       "20      3           2\n",
       "21      3           0\n",
       "22      3           3\n",
       "23      3           2\n",
       "24      3           0\n",
       "25      3           3\n",
       "26      1           1\n",
       "27      1           1\n",
       "28      1           1\n",
       "29      1           1"
      ]
     },
     "execution_count": 129,
     "metadata": {},
     "output_type": "execute_result"
    }
   ],
   "source": [
    "print('Model prediction to new data')\n",
    "final = pd.concat([y_test, y_pred_inf_df], axis=1)\n",
    "final.head(30)"
   ]
  },
  {
   "cell_type": "markdown",
   "metadata": {},
   "source": [
    "The tuned model has been proved to predict the label of the new news articles."
   ]
  },
  {
   "cell_type": "markdown",
   "metadata": {},
   "source": [
    "---\n",
    "# 11 - Conclusion"
   ]
  },
  {
   "cell_type": "markdown",
   "metadata": {},
   "source": [
    "* We have made a model that can predict the label of the news articles. \n",
    "\n",
    "* The dataset that is used to create the model is the AG news dataset. In total, it has 127,600 rows and 3 columns. The columns are title, description, and label/class. There is no missing value detected.\n",
    "\n",
    "* The news articles are classified into 4: World, Sports, Business, and Sci/Tech. Each class has the same number of articles, indicating a balanced dataset. \n",
    "\n",
    "* The World news articles have the longest average word count, both in title and description. They also have the longest average character count in the title.\n",
    "\n",
    "* Data preprocessing techniques used were case folding, stopword removal, and lemmatization. Tokenization were realized using textvecotization, while for embedding was embedding layer in sklearn\n",
    "\n",
    "* We made 3 baseline models. Model 1 incorporated Global Average Pooling 1D, Model 2 implemented GRU, and Model 3 implemented LSTM. \n",
    "\n",
    "* The LSTM model performed the best out of the three models, with accuracy of 85.2%.\n",
    "\n",
    "* Then the model was improved by using dropout percentage of 0.5, changing the optimizer to nadam, and increasing the number of epochs. The tuned model has an increased accuracy of 86.3%.\n",
    "\n",
    "* The tuned model was able to predict new news articles. The model can be further improved by tuning more hyperparameter. It will be easier to do this in automation, such as using keras tuner.\n",
    "\n",
    "* The news classification model is very helpful especially in the news industry. It can help users to access the news articles based on the topic they are interested in.\n"
   ]
  }
 ],
 "metadata": {
  "kernelspec": {
   "display_name": "Python 3.9.13 ('ml_envi')",
   "language": "python",
   "name": "python3"
  },
  "language_info": {
   "codemirror_mode": {
    "name": "ipython",
    "version": 3
   },
   "file_extension": ".py",
   "mimetype": "text/x-python",
   "name": "python",
   "nbconvert_exporter": "python",
   "pygments_lexer": "ipython3",
   "version": "3.9.13"
  },
  "orig_nbformat": 4,
  "vscode": {
   "interpreter": {
    "hash": "237f056439537ffe9a92d263e1b51648575942e6a4422a3c816f91e7ce2bc02d"
   }
  }
 },
 "nbformat": 4,
 "nbformat_minor": 2
}
